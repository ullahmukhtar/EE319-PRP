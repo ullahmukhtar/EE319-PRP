{
 "cells": [
  {
   "cell_type": "markdown",
   "metadata": {},
   "source": [
    "# EE319 - Probability & Random Processes\n",
    "## *Dr. Ing. Mukhtar Ullah*, FAST NUCES, Fall 2020\n",
    "## **Lecture 01** (2020-01-21)\n",
    "## Seeking Patterns in Data  \n",
    "### What can you say about this plot?\n",
    "<img src=\"images/deterministic_regularity_t-plot.png\" width=\"50%\" />\n",
    "\n",
    "### and this one?\n",
    "<img src=\"images/chance_regularity_t-plot.png\" width=\"50%\" />\n",
    "\n",
    "### What can you make of this one?\n",
    "<img src=\"images/chance_regularity_histogram.png\" width=\"50%\" />"
   ]
  },
  {
   "cell_type": "markdown",
   "metadata": {},
   "source": [
    "## Engineering Challenge\n",
    "### Design Systems that are\n",
    "- cost-effective\n",
    "- high-performace\n",
    "- reliable (in the face of uncertainty)"
   ]
  },
  {
   "cell_type": "markdown",
   "metadata": {},
   "source": [
    "## Embrace the uncertainty\n",
    "### Staffing problems\n",
    " - Weigh future demand against staffing costs\n",
    " \n",
    "### Medical diagnosis and treatment\n",
    "- Estimate the most suitable treatments for patients\n",
    " \n",
    "### Electrical Circuits (rather Circuit Systems)\n",
    " - Sizing of electrical components (conductors, transformers, motors) against current variation\n",
    " \n",
    "### Electronic Circuits\n",
    " - More reliable circuits with less reliable components\n",
    " \n",
    "### Communication over Unreliable Channels\n",
    "- Quality of service in the presence of time-varying and space-varying effects\n",
    "\n",
    "### System Reliability and Security\n",
    "- Computer systems (speculative execution)\n",
    "- Information system reliability and security (levels of backups and firewalls)\n",
    "- Home automation systems (energy vs. quality of life)\n",
    "- Electric power system (prevent outages)\n",
    "- Communication networks\n",
    "- Transportation networks\n",
    "- Water management system\n",
    "\n",
    "### Online search and advertising\n",
    " - Which webpages/advertisements to display in response to queries (reading viewer's mind)\n"
   ]
  },
  {
   "cell_type": "markdown",
   "metadata": {},
   "source": [
    "## How do You Deal with Uncertainty?\n",
    "Suppose some dark night a policeman walks down a street, apparently deserted. Suddenly he\n",
    "hears a burglar alarm, looks across the street, and sees a jewelry store with a broken window.\n",
    "Then a gentleman wearing a mask comes crawling out through the broken window, carrying\n",
    "a bag which turns out to be full of expensive jewelry. The policeman doesn’t hesitate at all\n",
    "in deciding that this gentleman is dishonest. But by what reasoning process does he arrive\n",
    "at this conclusion?\n",
    "\n",
    "### Questions you should ask:\n",
    "- Was the policeman’s conclusion a logical deduction from the evidence?\n",
    "- The gentleman could have been the owner of the jewelry store and he was coming home from a masquerade party, and didn’t have the key with him. However, just as he walked by his store, a passing truck threw a stone through the window, and he was only protecting his own property.\n",
    "\n",
    "### Logical Reasoning\n",
    "A $\\leftrightarrow$ \"it will start to rain by 10 am at the latest\"\n",
    "\n",
    "B $\\leftrightarrow$ \"the sky will become cloudy before 10 am\"\n",
    "\n",
    "Which of the following is correct?\n",
    "- A$\\Rightarrow$B (If A is true, then B is true)\n",
    "- B$\\Rightarrow$A (If B is true, then A is true)\n",
    "\n",
    "### Plausible Reasoning\n",
    "\n",
    "Which of the following is correct?\n",
    "- If A is true, then B becomes more plausible\n",
    "- If B is true, then A becomes more plausible\n",
    "\n",
    "### Sound Human Reasoning\n",
    "- Human reasoning depends on prior information to evaluate the degree of plausibility in a new problem. \n",
    "- This reasoning process goes on unconsciously.\n",
    "- This is what you common sense.\n",
    "- The key steps are: \n",
    " - observed data $\\rightarrow$ form a hypothesis (based on prior beliefs) $\\rightarrow$ updated your beliefs based on new evidence\n"
   ]
  },
  {
   "cell_type": "markdown",
   "metadata": {},
   "source": [
    "## The Real World and its Representation in the Human Mind\n",
    "### Reflect on (what you do) in these scenarios\n",
    "- You enter this classroom and are asked (by your teacher) to counting all the chairs\n",
    " - how do you identify a chair\n",
    "- You enter a circuits lab and are asked to describe a small cylindrical capsule with a short wire protruding from each end\n",
    " - how do you defend your claim that the capsule is a resistor\n",
    " - how do you deal with the uncertainty (tolerance) in resistor values?\n",
    " \n",
    "### The three worlds\n",
    "<img src=\"images/three_worlds.png\" width=\"100%\" />"
   ]
  }
 ],
 "metadata": {
  "kernelspec": {
   "display_name": "Python 3",
   "language": "python",
   "name": "python3"
  },
  "language_info": {
   "codemirror_mode": {
    "name": "ipython",
    "version": 3
   },
   "file_extension": ".py",
   "mimetype": "text/x-python",
   "name": "python",
   "nbconvert_exporter": "python",
   "pygments_lexer": "ipython3",
   "version": "3.7.6"
  }
 },
 "nbformat": 4,
 "nbformat_minor": 4
}

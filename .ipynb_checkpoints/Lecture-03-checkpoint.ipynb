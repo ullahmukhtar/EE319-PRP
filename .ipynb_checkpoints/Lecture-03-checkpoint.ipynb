{
 "cells": [
  {
   "cell_type": "markdown",
   "metadata": {},
   "source": [
    "# EE319 - Probability & Random Processes\n",
    "## *Dr.-Ing. Mukhtar Ullah*, FAST NUCES, Spring 2020\n",
    "## **Lecture 03** (2020-01-28)\n",
    "## Axiomatic Probability  \n",
    "The frequentist probability suffers from the following problems. \n",
    "- It cannot be applied to (events of) non-repeatable experiments\n",
    "- convergence of the long-run relative frequency can be proved in restricted application domains\n",
    "  - Not all probabilistic experiments are random\n",
    "\n",
    "## Other intepretations of probability\n",
    "- Subjective probability (degree of belief)\n",
    "  - Put your money where your mouth is\n",
    "- Logical probability (plausibilty, strength of evidence)\n",
    "  - Rational individuals with same evidence should assign the same probability to an event\n",
    "\n",
    "__Andrey Kolmogorov (1933) settled the debate by an axiomatic approach to probability that cares only about properties of probability and leaves the intepretation to the modeler.__"
   ]
  },
  {
   "cell_type": "markdown",
   "metadata": {},
   "source": [
    "## Resource allocation in voice packet transmission\n",
    "<img src=\"images/voice_packet_transmission.png\" width=\"70%\" />\n",
    "\n",
    "## How many active speakers in a short time slot\n",
    "<img src=\"images/active_speakers_distribution.png\" width=\"70%\" />"
   ]
  }
 ],
 "metadata": {
  "kernelspec": {
   "display_name": "Python 3",
   "language": "python",
   "name": "python3"
  },
  "language_info": {
   "codemirror_mode": {
    "name": "ipython",
    "version": 3
   },
   "file_extension": ".py",
   "mimetype": "text/x-python",
   "name": "python",
   "nbconvert_exporter": "python",
   "pygments_lexer": "ipython3",
   "version": "3.7.6"
  }
 },
 "nbformat": 4,
 "nbformat_minor": 4
}

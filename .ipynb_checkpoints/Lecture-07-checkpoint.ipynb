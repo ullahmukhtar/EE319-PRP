{
 "cells": [
  {
   "cell_type": "markdown",
   "metadata": {},
   "source": [
    "# EE319 - Probability & Random Processes\n",
    "## *Dr. Ing. Mukhtar Ullah*, FAST NUCES, Fall 2020\n",
    "## **Lecture 07** (2020-02-11)"
   ]
  },
  {
   "cell_type": "markdown",
   "metadata": {},
   "source": [
    "## Properties of Conditional Probability\n",
    "### Product Rule\n",
    "\\begin{align*}\n",
    "P\\left(A\\cap B\\right) & =P\\left(A\\right)P\\left(B\\mid A\\right)\\\\\n",
    "P\\left(A\\cap B\\cap C\\right) & =P\\left(A\\right)P\\left(B\\mid A\\right)P\\left(C\\mid A\\cap B\\right)\\\\\n",
    "P\\left(\\bigcap_{k=1}^{n}A_{k}\\right) & =P\\left(A_{1}\\right)P\\left(A_{2}\\mid A_{1}\\right)\\cdots P\\left(A_{n}\\mid\\bigcap_{k=1}^{n-1}A_{k}\\right)\n",
    "\\end{align*}\n",
    "\n",
    ">### Example\n",
    "Consider an urn containing three red, four white, and five blue balls.<br/>\n",
    "The probabilities of drawing “at random” a red (R), a white (W), or a blue (B) ball, separately, are\n",
    "<br/>\n",
    "<br/>\n",
    "<br/>\n",
    "<br/>\n",
    "<br/>\n",
    ">The probability of the event “draw three balls, a red, a white, and a blue, in that sequence”\n",
    ">- with replacement\n",
    "<br/>\n",
    "<br/>\n",
    "<br/>\n",
    "<br/>\n",
    "<br/>\n",
    ">- without replacement\n",
    "<br/>\n",
    "<br/>\n",
    "<br/>\n",
    "<br/>\n",
    "<br/>"
   ]
  },
  {
   "cell_type": "markdown",
   "metadata": {},
   "source": [
    "## Statistical Independence among Events\n",
    "Say we have three events $A$, $B$, and $C$.\n",
    "### Joint Independence\n",
    "$$P\\left(A\\cap B\\cap C\\right)=P\\left(A\\right)P\\left(B\\right)P\\left(C\\right)$$\n",
    "### Pair-wise Independence\n",
    "\\begin{align*}\n",
    "P\\left(A\\cap B\\right) & =P\\left(A\\right)P\\left(B\\right) & P\\left(B\\cap C\\right) & =P\\left(B\\right)P\\left(C\\right) & P\\left(C\\cap A\\right) & =P\\left(C\\right)P\\left(A\\right)\n",
    "\\end{align*}\n",
    "### Mutual Independence\n",
    " - Pair-wise independence, and\n",
    " - joint independence\n",
    " \n",
    "Events $A_1,A_2,\\cdots,A_n$ are said to be (mutually) independent iff\n",
    "$$P\\left(\\bigcap_{i=1}^{k}A_{i}\\right)=\\prod_{i=1}^{k}P\\left(A_{i}\\right)\\ \\text{for each}\\ k=2,3,\\cdots,n$$\n",
    "That is, events in any subcollection are jointly independent.\n",
    "\n",
    ">### Example\n",
    "Consider the outcome space $\\Omega=\\left\\{ \\text{HH},\\text{HT},\\text{TH},\\text{TT}\\right\\}$ and the events\n",
    "\\begin{align*}\n",
    "A= & \\left\\{ \\text{TT},\\text{TH}\\right\\}  & B= & \\left\\{ \\text{TT},\\text{HT}\\right\\}  & C= & \\left\\{ \\text{TH},\\text{HT}\\right\\} \n",
    "\\end{align*}\n",
    "<br/>\n",
    "<br/>\n",
    "<br/>\n",
    "<br/>\n",
    "<br/>"
   ]
  },
  {
   "cell_type": "markdown",
   "metadata": {},
   "source": [
    "## Sequential Experiments\n",
    "Imagine a sequence of $k$ probabilistic experiments.\n",
    "- The experiments (in the sequence) are said to be independent iff\n",
    "  >the outcomes in any one experiment does not affect outcomes of any other\n",
    " - Independent experiments can be viewed as component experiments of a so-called product experiment.\n",
    " > \\begin{align*}\n",
    "\\left(\\Omega_{1},\\mathcal{F}_{1},P_{1}\\right) & \\leftrightarrow\\text{\"First coin toss\"}& \\Omega_{1}= & \\left\\{ \\text{T},\\text{H}\\right\\} \\\\\n",
    "\\left(\\Omega_{2},\\mathcal{F}_{2},P_{2}\\right) & \\leftrightarrow\\text{\"Second coin toss\"}& \\Omega_{2}= & \\left\\{ \\text{T},\\text{H}\\right\\} \\\\\n",
    "\\left(\\Omega,\\mathcal{F},P\\right) & \\leftrightarrow\\text{\"Two coin tosses\"} & \\Omega & =\\Omega_{1}\\times\\Omega_{2}\n",
    "\\end{align*}\n",
    "- The experiments are said to be identical iff\n",
    "  >the probabilistic (experimental) setup remains the same for all the experiments\n",
    "- The experiments are said to be random trials of a random experiment if \n",
    "  >the experiments are identical and independent\n",
    " - Random trials are also referred to as independent and identical trials. "
   ]
  }
 ],
 "metadata": {
  "kernelspec": {
   "display_name": "Python 3",
   "language": "python",
   "name": "python3"
  },
  "language_info": {
   "codemirror_mode": {
    "name": "ipython",
    "version": 3
   },
   "file_extension": ".py",
   "mimetype": "text/x-python",
   "name": "python",
   "nbconvert_exporter": "python",
   "pygments_lexer": "ipython3",
   "version": "3.7.6"
  }
 },
 "nbformat": 4,
 "nbformat_minor": 4
}

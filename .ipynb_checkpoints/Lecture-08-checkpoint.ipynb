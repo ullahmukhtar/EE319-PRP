{
 "cells": [
  {
   "cell_type": "markdown",
   "metadata": {},
   "source": [
    "# EE319 - Probability & Random Processes\n",
    "## *Dr. Ing. Mukhtar Ullah*, FAST NUCES, Spring 2020\n",
    "<hr/>\n",
    "\n",
    "## **Lecture 08** (2020-02-14)"
   ]
  },
  {
   "cell_type": "markdown",
   "metadata": {},
   "source": [
    "## Sequential Experiments and Counting"
   ]
  },
  {
   "cell_type": "markdown",
   "metadata": {},
   "source": [
    "### \"Select 2 objects from a set of 4 objects\" $\\leftrightarrow$ \"Place 2 objects in 4 different cells\"\n",
    "\n",
    "Ordered<br>Selection<br>with<br>Replacement|$\\leftrightarrow$| Distinguishables<br>Placement<br>without<br>Exclusion| <img width=10/> | Ordered<br>Selection<br>without<br>Replacement |$\\leftrightarrow$| Distinguishables<br>Placement<br>with<br>Exclusion| <img width=10/> | Unordered<br>Selection<br>without<br>Replacement |$\\leftrightarrow$| Indistinguishables<br>Placement<br>with<br>Exclusion| <img width=10/> | Unordered<br>Selection<br>with<br>Replacement |$\\leftrightarrow$| Indistinguishables<br>Placement<br>without<br>Exclusion|\n",
    "--:|--|:--|--|--:|--|:--|--|--:|--|:--|--|--:|--|:--|\n",
    "$aa$ | $\\leftrightarrow$ | $$s_{1}s_{2}\\mid-\\mid-\\mid-$$| | | | | | | | | |$\\left\\{a:2\\right\\}$ | $\\leftrightarrow$ | $$ss\\mid -\\mid-\\mid-$$|\n",
    "$bb$ | $\\leftrightarrow$ | $$-\\mid s_{1}s_{2}\\mid-\\mid-$$| | | | | | | | | |$\\left\\{b:2\\right\\}$ | $\\leftrightarrow$ | $$-\\mid ss\\mid-\\mid-$$|\n",
    "$cc$ | $\\leftrightarrow$ | $$-\\mid-\\mid s_{1}s_{2}\\mid-$$| | | | | | | | | |$\\left\\{c:2\\right\\}$ | $\\leftrightarrow$ | $$-\\mid -\\mid ss\\mid-$$|\n",
    "$dd$ | $\\leftrightarrow$ | $$-\\mid-\\mid-\\mid s_{1}s_{2}$$| | | | | | | | | |$\\left\\{d:2\\right\\}$ | $\\leftrightarrow$ | $$-\\mid -\\mid-\\mid ss$$|\n",
    "$ab$ | $\\leftrightarrow$ | $$s_{1}\\mid s_{2}\\mid-\\mid-$$| |$ab$ | $\\leftrightarrow$ | $$s_{1}\\mid s_{2}\\mid-\\mid-$$| |$\\left\\{a,b\\right\\}$ | $\\leftrightarrow$ | $$s\\mid s\\mid-\\mid-$$| |$\\left\\{a,b\\right\\}$ | $\\leftrightarrow$ | $$s\\mid s\\mid-\\mid-$$|\n",
    "$ba$ | $\\leftrightarrow$ | $$s_{2}\\mid s_{1}\\mid-\\mid-$$| |$ba$ | $\\leftrightarrow$ | $$s_{2}\\mid s_{1}\\mid-\\mid-$$|\n",
    "$ac$ | $\\leftrightarrow$ | $$s_{1}\\mid-\\mid s_{2}\\mid-$$| |$ac$ | $\\leftrightarrow$ | $$s_{1}\\mid-\\mid s_{2}\\mid-$$| |$\\left\\{a,c\\right\\}$ | $\\leftrightarrow$ | $$s\\mid-\\mid s\\mid-$$| |$\\left\\{a,c\\right\\}$ | $\\leftrightarrow$ | $$s\\mid-\\mid s\\mid-$$|\n",
    "$ca$ | $\\leftrightarrow$ | $$s_{2}\\mid-\\mid s_{1}\\mid-$$| |$ca$ | $\\leftrightarrow$ | $$s_{2}\\mid-\\mid s_{1}\\mid-$$|\n",
    "$ad$ | $\\leftrightarrow$ | $$s_{1}\\mid-\\mid-\\mid s_{2}$$| |$ad$ | $\\leftrightarrow$ | $$s_{1}\\mid-\\mid-\\mid s_{2}$$| |$\\left\\{a,d\\right\\}$ | $\\leftrightarrow$ | $$s\\mid-\\mid-\\mid s$$| |$\\left\\{a,d\\right\\}$ | $\\leftrightarrow$ | $$s\\mid-\\mid-\\mid s$$|\n",
    "$da$ | $\\leftrightarrow$ | $$s_{2}\\mid-\\mid-\\mid s_{1}$$| |$da$ | $\\leftrightarrow$ | $$s_{2}\\mid-\\mid-\\mid s_{1}$$|\n",
    "$bc$ | $\\leftrightarrow$ | $$-\\mid s_{1}\\mid s_{2}\\mid-$$| |$bc$ | $\\leftrightarrow$ | $$-\\mid s_{1}\\mid s_{2}\\mid-$$| |$\\left\\{b,c\\right\\}$ | $\\leftrightarrow$ | $$-\\mid s\\mid s\\mid-$$| |$\\left\\{b,c\\right\\}$ | $\\leftrightarrow$ | $$-\\mid s\\mid s\\mid-$$|\n",
    "$cb$ | $\\leftrightarrow$ | $$-\\mid s_{2}\\mid s_{1}\\mid-$$| |$cb$ | $\\leftrightarrow$ | $$-\\mid s_{2}\\mid s_{1}\\mid-$$|\n",
    "$bd$ | $\\leftrightarrow$ | $$-\\mid s_{1}\\mid-\\mid s_{2}$$| |$bd$ | $\\leftrightarrow$ | $$-\\mid s_{1}\\mid-\\mid s_{2}$$| |$\\left\\{b,d\\right\\}$ | $\\leftrightarrow$ | $$-\\mid s\\mid-\\mid s$$| |$\\left\\{b,d\\right\\}$ | $\\leftrightarrow$ | $$-\\mid s\\mid-\\mid s$$|\n",
    "$db$ | $\\leftrightarrow$ | $$-\\mid s_{2}\\mid-\\mid s_{1}$$| |$db$ | $\\leftrightarrow$ | $$-\\mid s_{2}\\mid-\\mid s_{1}$$|\n",
    "$cd$ | $\\leftrightarrow$ | $$-\\mid-\\mid s_{1}\\mid s_{2}$$| |$cd$ | $\\leftrightarrow$ | $$-\\mid-\\mid s_{1}\\mid s_{2}$$| |$\\left\\{c,d\\right\\}$ | $\\leftrightarrow$ | $$-\\mid-\\mid s\\mid s$$| |$\\left\\{c,d\\right\\}$ | $\\leftrightarrow$ | $$-\\mid-\\mid s\\mid s$$|\n",
    "$dc$ | $\\leftrightarrow$ | $$-\\mid-\\mid s_{2}\\mid s_{1}$$| |$dc$ | $\\leftrightarrow$ | $$-\\mid-\\mid s_{2}\\mid s_{1}$$|"
   ]
  },
  {
   "cell_type": "markdown",
   "metadata": {},
   "source": [
    "## Counting Examples in Sequential Experiments\n",
    "## Independent Choices in Each Component Experiment\n",
    "\n",
    "- How many four-letter \"words\" are there (ignoring spelling, etc.)?\n",
    "> There $26$ independent choices for each letter.<br/>\n",
    "Therefore $26^4$ different words are there.<br/>\n",
    "\n",
    "- How many four-letter \"words\" are there with vowels (not 'y') in the middle two places and a consonant at the end?\n",
    "> There are $26$ choices for the letter at the start, $5$ independent choices for each of the middle two places and $21$ independent choices the letter at the end.<br/>\n",
    "Therefore $26\\times 5^2 \\times 21$ different words are there.<br/>\n",
    "\n",
    "- In how many ways can a generous person give M&M's to three kids? (M&M's come in red,yellow, green, brown, and tan.)\n",
    "> There are $5$ choices for each kid.<br/>\n",
    "Therefore $5^3$ different allocations are possible.<br/>\n",
    "\n",
    "Find the number of divisors of 72.\n",
    "> The prime factorization $72=2^3 \\times 3^2$ requires that each divisor is of the form $2^a \\times 3^b$ where $a\\in\\left\\{0,1,2,3\\right\\}$ and $b\\in\\left\\{0,1,2\\right\\}$.<br/>\n",
    "There are, independently, $4$ choices for $a$ and $3$ choices for $b$.\n",
    "Therefore $4\\times 3=12$ different divisors of 72.<br/>"
   ]
  }
 ],
 "metadata": {
  "kernelspec": {
   "display_name": "Python 3",
   "language": "python",
   "name": "python3"
  },
  "language_info": {
   "codemirror_mode": {
    "name": "ipython",
    "version": 3
   },
   "file_extension": ".py",
   "mimetype": "text/x-python",
   "name": "python",
   "nbconvert_exporter": "python",
   "pygments_lexer": "ipython3",
   "version": "3.7.6"
  }
 },
 "nbformat": 4,
 "nbformat_minor": 4
}

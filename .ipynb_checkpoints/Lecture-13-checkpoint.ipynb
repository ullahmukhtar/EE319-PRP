{
 "cells": [
  {
   "cell_type": "markdown",
   "metadata": {},
   "source": [
    "# EE319 - Probability & Random Processes\n",
    "## *Dr.-Ing. Mukhtar Ullah*, FAST NUCES, Spring 2020\n",
    "<hr>\n",
    "\n",
    "## **Lecture 13** (2020-03-03)\n",
    "## More Applications of Probability (continued)"
   ]
  },
  {
   "cell_type": "markdown",
   "metadata": {},
   "source": [
    "### Quality control\n",
    "- A batch of $50$ items contains $10$ defective items. Suppose $10$ items are selected at random and tested. What is the probability that exactly $5$ of the items tested are defective?\n",
    ">The base sample space $\\mathsf{\\Omega}$ has size $50$. The base space can be partitioned into two events: $\\mathsf{D}$ for defective items and $\\mathsf{D^c}$ for nondefective items. The sequential experiment involves an unordered selection without replacement. ‘Unordered’ because only the number of defective items is of interest. ‘Without replacement’ because it makes no sense to test an item that has already been tested. The sequential experiment has size $\\binom{50}{10}$ for the number of ways $10$ items can be selected from $\\mathsf{\\Omega}$. The event of our interest has size $\\binom{10}{5}\\binom{40}{5}$ for the number of ways $5$ defective items can be selected from $\\mathsf{D}$ and $5$ nondefective items from $\\mathsf{D^c}$. The required probability is\n",
    "$$\\dfrac{\\binom{10}{5}\\binom{40}{5}}{\\binom{50}{10}}$$\n",
    "\n",
    "### Die rolls\n",
    "- A six-sided die is tossed $12$ times. How many distinct sequences of faces (numbers from $1$ to $6$) have each number appearing exactly twice? What is the probability of obtaining such a sequence?\n",
    ">The base sample space $\\mathsf{\\Omega}$ has size $6$. The $12$-toss sequential experiment has size $6^{12}$ for the number of distinct sequences of faces possible. The appearance of each side twice is in fact its multiplicity in a multinomial cofficient associated with $12$. The number of such distinct sequences is \n",
    "$$\\binom{12}{2,2,2,2,2,2}$$\n",
    "The probability of obtaining such a sequence is\n",
    "$$\\dfrac{1}{6^{12}}\\binom{12}{2,2,2,2,2,2}$$\n",
    "\n",
    "### The two-urn experiment\n",
    "- A sequential experiment involves repeatedly drawing a ball from one of two urns, noting the number on the ball, and replacing the ball in its urn. Urn $0$ contains a ball with the number $1$ and two balls with the number $0$, and urn $1$ contains five balls with the number $1$ and one ball with the number $0$. The urn from which the first draw is made is selected at random by flipping a fair coin. Urn $0$ is used if the outcome is heads and urn $1$ if the outcome is tails. Thereafter the urn used in a subexperiment corresponds to the number on the ball selected in the previous subexperiment.\n",
    "><img src=\"images/two_urn_experiment.png\" width=\"60%\" />\n",
    ">\n",
    ">Find the probability of the sequence $0011$?\n",
    "$$P_{1\\cdot\\cdot 4}\\left(\\{0011\\}\\right)=P_{1}\\left(\\{0\\}\\right)P_{2\\mid 1}\\left(\\{0\\}\\mid\\{0\\}\\right)P_{3\\mid 2}\\left(\\{1\\}\\mid\\{0\\}\\right)P_{4\\mid 3}\\left(\\{1\\}\\mid\\{1\\}\\right)=\\frac{1}{2}\\times\\frac{2}{3}\\times\\frac{1}{3}\\times\\frac{5}{6}=\\frac{5}{54}$$\n",
    "\n",
    "### Repeated Bernoulli trials until the first success\n",
    "- A coin is tossed repeatedly until the first heads shows up; the outcome of the experiment is the number of tosses required until the first head occurs. Find a probability law for this experiment. \n",
    ">The base sample space is $\\mathsf{\\Omega}=\\{\\mathrm{H},\\mathrm{T}\\}$. Assume a base probability distribution\n",
    "$$P\\left(\\{\\mathrm{H}\\}\\right)=p,\\quad P\\left(\\{\\mathrm{T}\\}\\right)=1-p$$\n",
    "However, no finite number of tosses can guarrantee the first head. The sequential experiment of ordered selection with replacement has sequences of ever increasing length as outcomes.\n",
    "$$\\mathsf{\\Omega}_{\\mathrm{geo}}=\\{\\mathrm{H},\\mathrm{TH},\\mathrm{TTH},\\ldots\\}=\\Bigl\\{\\left(x_{i}\\right)_{i\\in\\left\\{ 1,2,\\ldots,n\\right\\} }\\mid x_{n}=\\mathrm{H},x_{i\\ne n}=\\mathrm{T},n\\in\\mathbb{N}\\Bigr\\}$$\n",
    "It can be seen that this does not fit in our classification of four cases of counting as the size $n$ of sequences gets larger and larger without bound, or in mathematical parlance, gets infinitely large. That is not an issue as far as probability calculation is concerned because the product rule of probability is still applicable.<br/>\n",
    ">Events of our interest are of the form\n",
    "$$\\mathsf{A}_{k}=\\left\\{ \\mathrm{T}\\right\\} ^{k-1}\\times\\left\\{ \\mathrm{H}\\right\\}\\leftrightarrow\\text{‘}k\\text{ tosses are required until the first head occurs’}$$\n",
    "Application of the product rule of probability yields what is called a *geometric distribution*.\n",
    "$$P_{\\mathrm{geo}}\\left(\\mathsf{A}_{k}\\right)=P_{\\mathrm{geo}}\\left(\\left\\{ \\mathrm{T}\\right\\} ^{k-1}\\times\\left\\{ \\mathrm{H}\\right\\} \\right)=\\left[P\\left(\\left\\{ \\mathrm{T}\\right\\} \\right)\\right]^{k-1}P\\left(\\left\\{ \\mathrm{H}\\right\\} \\right)=\\left(1-p\\right)^{k-1}p$$\n",
    "\n",
    "### Repeated Bernoulli trials until the $r$th success\n",
    "- A coin is tossed repeatedly until the $r$th head shows up; the outcome of the experiment is the number of tosses required until the $r$th head occurs. Find a probability law for this experiment.\n",
    ">The base sample space and the base probability distribution are the same as above. As before, the sequential experiment has as outcomes sequences of ever increasing length.\n",
    "$$\\mathsf{\\Omega}_{\\mathrm{nb}}=\\Bigl\\{\\left(x_{i}\\right)_{i\\in\\left\\{ 1,2,\\ldots,n\\right\\} }\\mid x_{i}\\in\\left\\{ \\mathrm{H},\\mathrm{T}\\right\\} ,x_{n}=\\mathrm{H},\\left|\\left\\{ i\\mid x_{i}=\\mathrm{H}\\right\\} \\right|=r,n\\in\\mathbb{N}\\Bigr\\}$$\n",
    ">Define events of the form\n",
    "$$\\mathsf{A}_{j/ n}\\leftrightarrow\\text{‘}j\\text{ heads occur in }n\\text{ tosses’}$$\n",
    "that arise in binomial distribution.<br/>\n",
    ">Events of our interest take the form\n",
    "$$\\mathsf{A}_{k\\backslash r}=\\mathsf{A}_{(r-1)/(k-1)}\\times\\left\\{ \\mathrm{H}\\right\\}\\leftrightarrow\\text{‘}k\\text{ tosses are required until the }r\\text{th head occurs’}$$\n",
    "Application of the product rule of probability yields what is called a *negative-binomial distribution*.\n",
    "$$P_{\\mathrm{nb}}\\left(\\mathsf{A}_{k\\backslash r}\\right)=P_{\\mathrm{bin}}\\left(\\mathsf{A}_{(r-1)/(k-1)}\\right)P\\left(\\left\\{ \\mathrm{H}\\right\\} \\right)=\\binom{k-1}{r-1}p^{r}\\left(1-p\\right)^{k-r}$$"
   ]
  },
  {
   "cell_type": "markdown",
   "metadata": {},
   "source": [
    "### Uncountable Sets Revisited\n",
    "#### *How to generate an event space for the real line?*\n",
    "\n",
    "The so-called Borel field over the real line, denoted $\\mathfrak{B}\\left(\\mathbb{R}\\right)$ can be generated by events of the form $\\mathsf{B}_{x}=\\left(-\\infty,x\\right]$ that include all subsets we encounter\n",
    "in practice. Mathematically we write\n",
    "$$\\mathfrak{B}\\left(\\mathbb{R}\\right)=\\sigma\\left(\\left\\{ \\mathsf{B}_{x}:x\\in\\mathbb{R}\\right\\} \\right)$$\n",
    "Following are a few examples of events thus generated.\n",
    "\\begin{align*}\n",
    "\\left(a,\\infty\\right) & =\\left(-\\infty,a\\right]^{\\mathsf{c}}=\\mathsf{B}_{a}^{\\mathsf{c}}\\\\\n",
    "\\left(a,b\\right] & =\\left(a,\\infty\\right)\\cap\\left(-\\infty,b\\right]=\\mathsf{B}_{b}\\cap\\mathsf{B}_{a}^{\\mathsf{c}}\\\\\n",
    "\\left(-\\infty,b\\right) & =\\bigcup_{n=1}^{\\infty}\\left(-\\infty,b-1/n\\right]=\\bigcup_{n=1}^{\\infty}\\mathsf{B}_{b-1/n}\\\\\n",
    "\\left[a,\\infty\\right) & =\\left(-\\infty,a\\right)^{\\mathsf{c}}=\\bigcap_{n=1}^{\\infty}\\mathsf{B}_{a-1/n}^{\\mathsf{c}}\\\\\n",
    "\\left(a,b\\right) & =\\left(a,\\infty\\right)\\cap\\left(-\\infty,b\\right)=\\bigcup_{n=1}^{\\infty}\\left(\\mathsf{B}_{b-1/n}\\cap\\mathsf{B}_{a}^{\\mathsf{c}}\\right)\\\\\n",
    "\\left[a,b\\right) & =\\left[a,\\infty\\right)\\cap\\left(-\\infty,b\\right)=\\bigcup_{n=1}^{\\infty}\\left(\\mathsf{B}_{b-1/n}\\cap\\mathsf{B}_{a-1/n}^{\\mathsf{c}}\\right)\\\\\n",
    "\\left[a,b\\right] & =\\left[a,\\infty\\right)\\cap\\left(-\\infty,b\\right]=\\bigcap_{n=1}^{\\infty}\\left(\\mathsf{B}_{b}\\cap\\mathsf{B}_{a-1/n}^{\\mathsf{c}}\\right)\\\\\n",
    "\\left\\{ a\\right\\}  & =\\left[a,\\infty\\right)\\cap\\left(-\\infty,a\\right]=\\bigcap_{n=1}^{\\infty}\\left(\\mathsf{B}_{a}\\cap\\mathsf{B}_{a-1/n}^{\\mathsf{c}}\\right)\n",
    "\\end{align*}"
   ]
  }
 ],
 "metadata": {
  "kernelspec": {
   "display_name": "Python 3",
   "language": "python",
   "name": "python3"
  },
  "language_info": {
   "codemirror_mode": {
    "name": "ipython",
    "version": 3
   },
   "file_extension": ".py",
   "mimetype": "text/x-python",
   "name": "python",
   "nbconvert_exporter": "python",
   "pygments_lexer": "ipython3",
   "version": "3.7.6"
  }
 },
 "nbformat": 4,
 "nbformat_minor": 4
}

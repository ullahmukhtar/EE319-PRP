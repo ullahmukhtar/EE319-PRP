{
 "cells": [
  {
   "cell_type": "markdown",
   "metadata": {},
   "source": [
    "# EE319 - Probability & Random Processes\n",
    "## *Dr.-Ing. Mukhtar Ullah*, FAST NUCES, Spring 2020\n",
    "<hr>\n",
    "\n",
    "## **Lecture 15** (2020-03-10)\n",
    "## Towards a Calculus of Probability (continued)"
   ]
  },
  {
   "cell_type": "markdown",
   "metadata": {},
   "source": [
    "### Measures of size for (un)countable sets\n",
    "The Lebesgue measure, denoted $\\mu^{\\wedge}$, of a set generalizes the concept of length of an interval in 1-D, area of a rectangle in 2-D, volume of a cuboid in 3-D, and so on. The Lebesgue measure is useful for uncountable sets but not so for countable sets as it assigns zero value to singletons. To deal with countable sets, the so-called counting measure, denoted $\\mu^{\\#}$, of a finite set measures its cardinality.\n",
    "\n",
    "The two measures of the infinitesimal interval\n",
    "$$\n",
    "\\mathrm{d}\\mathsf{B}_{x}=\\left(x-\\mathrm{d}x,x\\right]=\\left[x,x+\\mathrm{d}x\\right)\n",
    "$$\n",
    "are then\n",
    "$$\n",
    "\\mu^{\\#}\\left(\\mathrm{d}\\mathsf{B}_{x}\\right)=1,\\quad\\mu^{\\wedge}\\left(\\mathrm{d}\\mathsf{B}_{x}\\right)=\\mathrm{d}x\n",
    "$$\n",
    "In terms of these two measures, the probability of a Borel set $B$ takes the form of a so-called Lebesgue-Stieltjes integral\n",
    "$$\n",
    "P\\left(\\mathsf{B}\\right)=\\intop_{\\mathcal{X}^{\\#}}f^{\\#}\\left(x\\right)\\left[x\\in\\mathsf{B}\\right]\\mu^{\\#}\\left(\\mathrm{d}\\mathsf{B}_{x}\\right)+\\intop_{\\mathcal{X}}f^{\\wedge}\\left(x\\right)\\left[x\\in\\mathsf{B}\\right]\\mu^{\\wedge}\\left(\\mathrm{d}\\mathsf{B}_{x}\\right)\n",
    "$$\n",
    "This justifies the usage of the names discrete probability density (derivative of the probability measure with respect to the counting measure) and continuous probability density (derivative of the probability measure with respect to the Lebesgue measure):\n",
    "$$\n",
    "f^{\\#}=\\frac{\\mathrm{d}P}{\\mathrm{d}\\mu^{\\#}},\\quad f^{\\wedge}=\\frac{\\mathrm{d}P}{\\mathrm{d}\\mu^{\\wedge}}\n",
    "$$"
   ]
  },
  {
   "cell_type": "markdown",
   "metadata": {},
   "source": [
    "### The Random Variable\n",
    "Recall out proposed strategy for solving any probability problem.\n",
    " 1. Identify events of interest in any problem.\n",
    " 1. Find a representation of your events in the form of Borel sets on the real line.\n",
    " 1. Assign probabilities to simpler Borel sets, that is, right-bounded right-closed intervals.\n",
    " 1. Determine probabilities of events of interest by application of Kolmogorov axioms and its corollaries.\n",
    " \n",
    " We need to focus on the second point: a way to represent events of interest (in the original event space) to Borel sets (in the event space over the real line). Towards that end, we will employ the concept of a function, or a mapping. Given a probability space $\\left(\\Omega,\\mathcal{F},P\\right)$ as a model of an experiment, we need a function\n",
    "$X\\colon\\mathsf{\\Omega}\\rightarrow\\mathbb{R}$ that assigns a real number  $X(\\omega)$ to every point $\\omega$ of the outcome space in a way that preserves the event structure of the event space $\\mathcal{F}$ so that a new probability space $\\left(\\mathbb{R},\\mathfrak{B}\\left(\\mathbb{R}\\right),P_{X}\\right)$ can be conveniently used to assign probabilities. The event structure of $\\mathcal{F}$ can be preserved only if the inverse $X^{-1}\\left[\\mathsf{B}\\right]$ of every Borel set $B\\in\\mathfrak{B}$ is contained in $\\mathcal{F}$. Checking all Borel sets in this way is not practical. Fortunately, we only need to check the right-bounded right-closed intervals of the $\\mathsf{B}_{x}$. All this reasoning leads to the following definition of a random variable.\n",
    "\n",
    "A *random variable (RV)* with respect to an event space $\\mathcal{F}$ is a function  $X\\colon\\mathsf{\\Omega}\\rightarrow\\mathbb{R}$ that satisfies $X^{-1}\\left[\\mathsf{B}_{x}\\right]\\in\\mathcal{F}$ for each real $x$. Note that the validity of a function as a RV is determined entirely by the event space $\\mathcal{F}$. Neither the values assigned by the RV nor the probability measure $P$ has any role to play as far the validity of a RV is concerned. However, a RV is useful only if it assigns values that reflect our quantity of interest."
   ]
  }
 ],
 "metadata": {
  "kernelspec": {
   "display_name": "Python 3",
   "language": "python",
   "name": "python3"
  },
  "language_info": {
   "codemirror_mode": {
    "name": "ipython",
    "version": 3
   },
   "file_extension": ".py",
   "mimetype": "text/x-python",
   "name": "python",
   "nbconvert_exporter": "python",
   "pygments_lexer": "ipython3",
   "version": "3.7.6"
  }
 },
 "nbformat": 4,
 "nbformat_minor": 4
}

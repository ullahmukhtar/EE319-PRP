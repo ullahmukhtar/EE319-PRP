{
 "cells": [
  {
   "cell_type": "markdown",
   "metadata": {},
   "source": [
    "# EE319 - Probability & Random Processes\n",
    "## *Dr.-Ing. Mukhtar Ullah*, FAST NUCES, Spring 2020\n",
    "<hr>\n",
    "\n",
    "## **Lecture 17** (2020-04-xx)\n",
    "## Random Variables (continued)"
   ]
  },
  {
   "cell_type": "markdown",
   "metadata": {},
   "source": [
    "#### Bernoulli Measure (continued)\n",
    "\n",
    "#### Indicator function\n",
    "The definition of Bernoulli RV\n",
    "$$\n",
    "X\\left(\\omega\\right)=\\delta_{\\omega}\\left(\\mathsf{A}_{1}\\right)=\\left[\\omega\\in\\mathsf{A}_{1}\\right]\n",
    "$$\n",
    "highlights two ways of viewing the Boolean expression $\\left[\\omega\\in\\mathsf{A}_{1}\\right]$. When viewed as a set function of $\\mathsf{A}_{1}$ it becomes a Dirac measure. When viewed as a point function of $\\omega$ it becomes a\n",
    "Bernoulli RV. The point-function view leads to the definition of what is called an indicator function\n",
    "$$\n",
    "\\mathbf{1}_{\\mathsf{A}}\\left(\\omega\\right)=\\delta_{\\omega}\\left(\\mathsf{A}\\right)=\\left[\\omega\\in\\mathsf{A}\\right]\n",
    "$$\n",
    "Thus, every Bernoulli RV is an indicator function. \n",
    "\n",
    "#### Tranformation of a Bernoulli RV\n",
    "Another interesting question arises here. The Bernoulli RV takes values in $\\left\\{ 0,1\\right\\} $. Any other RV $Y$, defined with respect to $\\mathcal{F}$ and taking values in $\\left\\{ a,b\\right\\} $, should be derivable from a Bernoulli RV $X$ with respect to the same $\\mathcal{F}$. All we need is transform $0$ to $a$ and $1$ to $b$. Convince yourself that $Y$ can be obtained from $X$ through the following transformation. \n",
    "$$\n",
    "Y\\left(\\omega\\right)=a+\\left(b-a\\right)X\\left(\\omega\\right)\n",
    "$$\n",
    "Since $\\mathsf{A}_{0}=X^{-1}\\left[\\left\\{ 0\\right\\} \\right]=Y^{-1}\\left[\\left\\{ a\\right\\} \\right]$ and $\\mathsf{A}_{1}=X^{-1}\\left[\\left\\{ 1\\right\\} \\right]=Y^{-1}\\left[\\left\\{ b\\right\\} \\right]$, the RV $Y$ has the following characterization\n",
    "$$\n",
    "\\mathcal{Y}=\\left\\{ a,b\\right\\} ,\\ f_{Y}^{\\#}\\left(y\\right)=f_{X}^{\\#}\\left(\\frac{y-a}{b-a}\\right),\\ F_{Y}^{\\#}\\left(y\\right)=F_{X}^{\\#}\\left(\\frac{y-a}{b-a}\\right)\n",
    "$$\n",
    "\n"
   ]
  }
 ],
 "metadata": {
  "kernelspec": {
   "display_name": "Python 3",
   "language": "python",
   "name": "python3"
  },
  "language_info": {
   "codemirror_mode": {
    "name": "ipython",
    "version": 3
   },
   "file_extension": ".py",
   "mimetype": "text/x-python",
   "name": "python",
   "nbconvert_exporter": "python",
   "pygments_lexer": "ipython3",
   "version": "3.7.6"
  }
 },
 "nbformat": 4,
 "nbformat_minor": 4
}

{
 "cells": [
  {
   "cell_type": "code",
   "execution_count": 1,
   "metadata": {
    "Collapsed": "false"
   },
   "outputs": [
    {
     "name": "stdout",
     "output_type": "stream",
     "text": [
      "... Some LaTeX definitions\n"
     ]
    },
    {
     "data": {
      "text/html": [
       "\n",
       "$$\\newcommand{\\diff}{\\mathop{}\\!\\textnormal{d}}\n",
       "\\newcommand{\\euler}{\\mathrm{e}}\n",
       "\\DeclareMathOperator{\\EE}{E}\n",
       "\\DeclareMathOperator{\\Var}{Var}\n",
       "\\DeclareMathOperator{\\Ber}{Ber}\n",
       "\\DeclareMathOperator{\\Ud}{Ud}\n",
       "\\DeclareMathOperator{\\U}{U}\n",
       "\\DeclareMathOperator{\\ind}{\\mathbf{1}}\n",
       "$$\n"
      ],
      "text/plain": [
       "<IPython.core.display.HTML object>"
      ]
     },
     "metadata": {},
     "output_type": "display_data"
    }
   ],
   "source": [
    "%run nbinitex.ipy"
   ]
  },
  {
   "cell_type": "markdown",
   "metadata": {
    "Collapsed": "false",
    "graffitiCellId": "id_0m3re3b"
   },
   "source": [
    "# EE319 - Probability & Random Processes\n",
    "## *Dr.-Ing. Mukhtar Ullah*, FAST NUCES, Spring 2020\n",
    "<hr>\n",
    "\n",
    "## **Lecture 18** (2020-04-xx)\n",
    "## Expectation (continued)"
   ]
  },
  {
   "cell_type": "markdown",
   "metadata": {
    "Collapsed": "false",
    "graffitiCellId": "id_ou7x9gu"
   },
   "source": [
    "#### Expectation of a transformed RV\n",
    "Consider a transformation $Y=g\\left(X\\right)$ where $g$ is a point function making any value $x$ of $X$ to the value $g\\left(x\\right)$ of $Y$. How are the two expectations $\\EE X$ and $\\EE Y$ related? Let us work that out by using the above definition of expectation and noting that the differential regions $\\mathrm{d}\\mathsf{B}_{x}$ and $\\mathrm{d}\\mathsf{B}_{y}$ in the Borel field correspond to the same event in the original event space. Putting it together, we get\n",
    "$$\n",
    "\\EE Y=\\intop_{\\mathbb{R}}yP_{Y}\\left(\\mathrm{d}\\mathsf{B}_{y}\\right)=\\intop_{\\mathbb{R}}g\\left(x\\right)P_{X}\\left(\\mathrm{d}\\mathsf{B}_{x}\\right)=\\sum_{k\\in\\mathcal{X}^{\\#}}g\\left(k\\right)f^{\\#}_{X}\\left(k\\right)+\\intop_{\\mathcal{X}}g\\left(x\\right)f^{\\wedge}_{X}\\left(x\\right)\\mathrm{d}x\n",
    "$$\n",
    "In other words, we do not need the distribution of $Y$ to compute the expectation. This makes sense in terms of long-run relative frequencies. The observed long-run relative frequency of a value $x$ is also the\n",
    "frequency $g\\left(x\\right)$."
   ]
  },
  {
   "cell_type": "markdown",
   "metadata": {
    "Collapsed": "false",
    "graffitiCellId": "id_6d97bnd"
   },
   "source": [
    "Let us work out the mean for the two RVs discussed above.\n",
    "\n",
    ">**Mean of the Dirac distribution**\n",
    ">The mean of the deterministic RV $a\\sim\\delta_{a}$ is\n",
    "$$\n",
    "\\EE a=\\sum_{k\\in\\left\\{ a\\right\\} }k\\delta_{a}\\left(\\left\\{ k\\right\\} \\right)=a\n",
    "$$\n",
    "In other words, the expected value of a (deterministic) constant is the constant itself.\n",
    "\n",
    "#### Linearity of the expectation\n",
    "Recall from math and circuit courses that integration and summation are linear operations. You can verify from the above definition that the expectation inherits linearity from integration and summation in the following sense:\n",
    "$$\n",
    "\\EE \\left(aX+b\\right)=a\\EE X+\\EE b=a\\EE X+b\n",
    "$$\n",
    "Setting $a=1$ and $b=-\\mu_{X}$ gives \n",
    "$$\n",
    "\\EE \\left(X-\\mu_{X}\\right)=\\EE X-\\mu_{X}=0\n",
    "$$\n",
    "as expected.\n",
    "\n",
    ">**Mean of the Bernoulli distribution**\n",
    ">The mean of the Bernoulli RV $X\\sim\\Ber_{p}$ is\n",
    "$$\n",
    "\\EE X=\\sum_{k=0}^{1}k\\mathrm{Ber}\\left(k;p\\right)=\\sum_{k=0}^{1}kp^{k}\\left(1-p\\right)^{1-k}=p\n",
    "$$\n",
    "The mean of the transformed (two-point) RV $Y=a+\\left(b-a\\right)X$\n",
    "follows from linearity\n",
    "$$\n",
    "\\EE Y=a+\\left(b-a\\right)\\mathrm{E}X=a+\\left(b-a\\right)p=\\left(1-p\\right)a+pb\n",
    "$$\n"
   ]
  },
  {
   "cell_type": "markdown",
   "metadata": {
    "Collapsed": "false",
    "graffitiCellId": "id_pb82llw"
   },
   "source": [
    "#### Spread of a distribution\n",
    "A measure of spread of a distribution is the so-called standard deviation, denoted $\\sigma$, which can be viewed as the Euclidean distance between a typical pair of values in a distribution. The mean was introduced as a typical value in the sense of minimizing the sum of its squared Euclidean distances from long-run observations. That gives us a hint of an estimate $\\hat{\\sigma}_{n}^{2}$ of the squared standard deviation--the average squared distance per trial, \n",
    "$$\n",
    "\\hat{\\sigma}_{n}^{2}=\\frac{1}{n}S\\left(\\hat{\\mu}_{n}\\right)=\\frac{1}{n}\\sum_{k\\in\\mathcal{X}^{\\#}}\\left(k-\\hat{\\mu}_{n}\\right)^{2}a_{n}\\left(k\\right)=\\sum_{k\\in\\mathcal{X}^{\\#}}\\left(k-\\hat{\\mu}_{n}\\right)^{2}r_{n}\\left(k\\right)\n",
    "$$\n",
    "To see why $\\hat{\\sigma}_{n}$ is the Euclidean distance between a\n",
    "typical pair of values, note that both $\\left(\\hat{\\mu}_{n},\\hat{\\mu}_{n}+\\hat{\\sigma}_{n}\\right)$\n",
    "and $\\left(\\hat{\\mu}_{n},\\hat{\\mu}_{n}-\\hat{\\sigma}_{n}\\right)$ can\n",
    "be viewed as typical pairs because\n",
    "\\\\[\n",
    "\\left(\\hat{\\mu}_{n}\\pm\\hat{\\sigma}_{n}-\\hat{\\mu}_{n}\\right)^{2}=\\hat{\\sigma}_{n}^{2}\n",
    "\\\\]\n",
    "That leads us to define the standard deviation $\\sigma$ of a discrete distribution as the positive square root of what is called the variance of the distribution,\n",
    "$$\n",
    "\\sigma^{2}=\\sum_{k\\in\\mathcal{X}^{\\#}}\\left(k-\\hat{\\mu}\\right)^{2}p_{k}\n",
    "$$\n",
    "The variance of a general RV $X$, denoted $\\Var X$,\n",
    "is defined by\n",
    "$$\n",
    "\\sigma_{X}^{2}=\\Var X=\\EE \\left(X-\\mu_{X}\\right)^{2}\n",
    "$$\n"
   ]
  }
 ],
 "metadata": {
  "kernelspec": {
   "display_name": "Python 3",
   "language": "python",
   "name": "python3"
  },
  "language_info": {
   "codemirror_mode": {
    "name": "ipython",
    "version": 3
   },
   "file_extension": ".py",
   "mimetype": "text/x-python",
   "name": "python",
   "nbconvert_exporter": "python",
   "pygments_lexer": "ipython3",
   "version": "3.7.6"
  }
 },
 "nbformat": 4,
 "nbformat_minor": 4
}

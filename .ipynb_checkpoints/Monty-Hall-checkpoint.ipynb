{
 "cells": [
  {
   "cell_type": "markdown",
   "metadata": {},
   "source": [
    "# The Monty Hall Problem\n",
    "This problem comes from a popular U.S. television show called “Let’s Make a Deal.” The show host, Monty Hall, would hide a car behind one of three doors and a goat behind each of the other two doors. The contestant is invited to choose one of the doors. Monty Hall opens one of the remaining two doors so as to reveal a goat. He then gives the contestant the option to either stay with his original choice or to switch to the remaining unopened door. Is it in the interest of the contestant to switch?"
   ]
  },
  {
   "cell_type": "markdown",
   "metadata": {},
   "source": [
    "<img src=\"images/montyhallproblem.png\" width=\"70%\" />"
   ]
  },
  {
   "cell_type": "markdown",
   "metadata": {},
   "source": [
    "## Naive Approach\n",
    "It is tempting to suppose, because Monty Hall always opens a door with a goat behind, that no information has been conveyed. Thus the contestant will be left with two equally likely doors and a probability 1/2 of winning regardless of whether (s)he switches or not. This line of reasoning, while appealing, is wrong."
   ]
  },
  {
   "cell_type": "markdown",
   "metadata": {
    "slideshow": {
     "slide_type": "slide"
    }
   },
   "source": [
    "## Less Technical Approach\n",
    "Let us define the following events.\n",
    "\\begin{align}\n",
    "C_{\\mathrm{i}} & \\leftrightarrow\\text{\"Car behind the door initially picked\"}\\\\\n",
    "C_{\\mathrm{f}} & \\leftrightarrow\\text{\"Car behind the door finally picked\"}\\\\\n",
    "C_{\\mathrm{i}}^{\\prime} & \\leftrightarrow\\text{\"Goat behind the door initially picked\"}\\\\\n",
    " & \\leftrightarrow\\text{\"Car behind the doors other than the one initially picked\"}\n",
    "\\end{align}\n",
    "It is reasonable to assume the following probabilities for the events associated with the initial pick.\n",
    "\\begin{align*}\n",
    "P\\left(C_{\\mathrm{i}}\\right) & =\\frac{1}{3} & P\\left(C_{\\mathrm{i}}^{\\prime}\\right) & =\\frac{2}{3}\n",
    "\\end{align*}\n",
    "Probability assignment to events associated with the final pick depends on whether the contestent switches or not. It is important to notice that the contestent is part of the experiment and his/her decision to switch or not is essentially a choice between two different experiments. We will consider the two strategies separately."
   ]
  },
  {
   "cell_type": "markdown",
   "metadata": {},
   "source": [
    "### Strategy 1: stay with the initial pick\n",
    "In this case it is reasonable to assign the following conditional probabilities.\n",
    "\\begin{align*}\n",
    "P\\left(C_{\\mathrm{f}}\\mid C_{\\mathrm{i}}\\right) & =1 & P\\left(C_{\\mathrm{f}}\\mid C_{\\mathrm{i}}^{\\prime}\\right) & =0\n",
    "\\end{align*}\n",
    "The probability of winning the car then follows from the law of total probability\n",
    "\\begin{align*}\n",
    "P\\left(C_{\\mathrm{f}}\\right) & =P\\left(C_{\\mathrm{i}}\\right)P\\left(C_{\\mathrm{f}}\\mid C_{\\mathrm{i}}\\right)+P\\left(C_{\\mathrm{i}}^{\\prime}\\right)P\\left(C_{\\mathrm{f}}\\mid C_{\\mathrm{i}}^{\\prime}\\right)\\\\\n",
    " & =\\frac{1}{3}\\times1+\\frac{2}{3}\\times0\\\\\n",
    " & =\\frac{1}{3}\n",
    "\\end{align*}"
   ]
  },
  {
   "cell_type": "markdown",
   "metadata": {},
   "source": [
    "### Strategy 2: switch the door\n",
    "In this case it is reasonable to assign the following conditional probabilities.\n",
    "\\begin{align*}\n",
    "P\\left(C_{\\mathrm{f}}\\mid C_{\\mathrm{i}}\\right) & =0 & P\\left(C_{\\mathrm{f}}\\mid C_{\\mathrm{i}}^{\\prime}\\right) & =1\n",
    "\\end{align*}\n",
    "The probability of winning the car then follows from the law of total probability\n",
    "\\begin{align*}\n",
    "P\\left(C_{\\mathrm{f}}\\right) & =P\\left(C_{\\mathrm{i}}\\right)P\\left(C_{\\mathrm{f}}\\mid C_{\\mathrm{i}}\\right)+P\\left(C_{\\mathrm{i}}^{\\prime}\\right)P\\left(C_{\\mathrm{f}}\\mid C_{\\mathrm{i}}^{\\prime}\\right)\\\\\n",
    " & =\\frac{1}{3}\\times0+\\frac{2}{3}\\times1\\\\\n",
    " & =\\frac{2}{3}\n",
    "\\end{align*}\n",
    "It is clear that switching the door is a better strategy."
   ]
  },
  {
   "cell_type": "markdown",
   "metadata": {
    "slideshow": {
     "slide_type": "slide"
    }
   },
   "source": [
    "## More Technical Approach\n",
    "Though the (less technical) approach above takes into account the role of Monty Hall but does not make it explicit. Let us make the role of Monty Hall explicit by defining a further event, in addition to those defined earlier.\n",
    "\\begin{align}\n",
    "G_{\\mathrm{m}} & \\leftrightarrow\\text{\"A goat is revealed by Monty Hall\"}\\\\\n",
    "C_{\\mathrm{r}} & \\leftrightarrow\\text{\"Car behind the remaining unopened door\"}\n",
    "\\end{align}\n",
    "Since Monty Hall will always reveal a goat, it is reasonable to assign the following conditional probabilities:\n",
    "\\begin{align}\n",
    "P\\left(G_{\\mathrm{m}}\\mid C_{\\mathrm{i}}\\right) & =1 & P\\left(G_{\\mathrm{m}}\\mid C_{\\mathrm{i}}^{\\prime}\\right) & =1\\\\\n",
    "P\\left(C_{\\mathrm{r}}\\mid G_{\\mathrm{m}}\\cap C_{\\mathrm{i}}\\right) & =0 & P\\left(C_{\\mathrm{r}}\\mid G_{\\mathrm{m}}\\cap C_{\\mathrm{i}}^{\\prime}\\right) & =1\n",
    "\\end{align}\n",
    "Now Baye's Theorem allows us to determine the posterior probability of finding the car behind the initially picked door:\n",
    "\\begin{align*}\n",
    "P\\left(C_{\\mathrm{i}}\\mid G_{\\mathrm{m}}\\right) & =\\frac{P\\left(C_{\\mathrm{i}}\\right)P\\left(G_{\\mathrm{m}}\\mid C_{\\mathrm{i}}\\right)}{P\\left(C_{\\mathrm{i}}\\right)P\\left(G_{\\mathrm{m}}\\mid C_{\\mathrm{i}}\\right)+P\\left(C_{\\mathrm{i}}^{\\prime}\\right)P\\left(G_{\\mathrm{m}}\\mid C_{\\mathrm{i}}^{\\prime}\\right)}\\\\\n",
    " & =\\frac{P\\left(C_{\\mathrm{i}}\\right)}{P\\left(C_{\\mathrm{i}}\\right)+P\\left(C_{\\mathrm{i}}^{\\prime}\\right)}\\\\\n",
    " & =P\\left(C_{\\mathrm{i}}\\right)\\\\\n",
    " & =\\frac{1}{3}\n",
    "\\end{align*}\n",
    "The posterior probability of finding the car behind doors other than the one initially picked is then\n",
    "$$P\\left(C_{\\mathrm{i}}^{\\prime}\\mid G_{\\mathrm{m}}\\right)=P\\left(C_{\\mathrm{i}}^{\\prime}\\right)=\\frac{2}{3}$$\n",
    "The probability of finding the car behind the remaining unopened door, after Monty has revealed a goat, follows from the law of total probability\n",
    "\\begin{align*}\n",
    "P\\left(C_{\\mathrm{r}}\\mid G_{\\mathrm{m}}\\right) & =P\\left(C_{\\mathrm{i}}\\right)P\\left(C_{\\mathrm{r}}\\mid G_{\\mathrm{m}}\\cap C_{\\mathrm{i}}\\right)+P\\left(C_{\\mathrm{i}}^{\\prime}\\right)P\\left(C_{\\mathrm{r}}\\mid G_{\\mathrm{m}}\\cap C_{\\mathrm{i}}^{\\prime}\\right)\\\\\n",
    " & =\\frac{1}{3}\\times0+\\frac{2}{3}\\times1\\\\\n",
    " & =\\frac{2}{3}\n",
    "\\end{align*}\n",
    "Again, switching the door is a better strategy."
   ]
  }
 ],
 "metadata": {
  "kernelspec": {
   "display_name": "Python 3",
   "language": "python",
   "name": "python3"
  },
  "language_info": {
   "codemirror_mode": {
    "name": "ipython",
    "version": 3
   },
   "file_extension": ".py",
   "mimetype": "text/x-python",
   "name": "python",
   "nbconvert_exporter": "python",
   "pygments_lexer": "ipython3",
   "version": "3.7.6"
  }
 },
 "nbformat": 4,
 "nbformat_minor": 4
}

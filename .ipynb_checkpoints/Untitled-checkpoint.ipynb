{
 "cells": [
  {
   "cell_type": "code",
   "execution_count": 2,
   "metadata": {
    "Collapsed": "false"
   },
   "outputs": [
    {
     "name": "stdout",
     "output_type": "stream",
     "text": [
      "p**k*(1 - p)**(1 - k)\n"
     ]
    }
   ],
   "source": [
    "import sympy\n",
    "k,p=sympy.symbols('k p', positive=True)\n"
   ]
  },
  {
   "cell_type": "code",
   "execution_count": 1,
   "metadata": {
    "Collapsed": "false"
   },
   "outputs": [],
   "source": [
    "import numpy as np\n",
    "import matplotlib.pyplot as plt\n",
    "def mystep(x,y, ax=None, **kwargs):\n",
    "    x = np.array(x)\n",
    "    y = np.array(y)\n",
    "    X = np.c_[x[:-1],x[1:],x[1:]]\n",
    "    Y = np.c_[y[:-1],y[:-1],np.zeros_like(x[:-1])*np.nan]\n",
    "    if not ax: ax=plt.gca()\n",
    "    return ax.plot(X.flatten(), Y.flatten(), **kwargs)"
   ]
  },
  {
   "cell_type": "code",
   "execution_count": 2,
   "metadata": {
    "Collapsed": "false"
   },
   "outputs": [
    {
     "name": "stdout",
     "output_type": "stream",
     "text": [
      "<function <lambda> at 0x0000017439D41708>\n",
      "<function <lambda> at 0x0000017439D418B8>\n"
     ]
    }
   ],
   "source": [
    "# Bernoulli\n",
    "p = 1/3\n",
    "X = np.array([0,1])\n",
    "sp_pdf = lambda k: p**k*(1-p)**(1-k) # pointwise distribution\n",
    "si_cdf=lambda k: (1-p)**(1-k)  # cumulative distribution\n",
    "pdf = lambda x: sp_pdf(x)*(x in X) # discrete pdf\n",
    "print(pdf)\n",
    "cdf = lambda x: si_cdf(min(1,np.floor(x)))*(x>=0) # cdf\n",
    "print(cdf)\n"
   ]
  },
  {
   "cell_type": "code",
   "execution_count": 11,
   "metadata": {
    "Collapsed": "false"
   },
   "outputs": [
    {
     "name": "stdout",
     "output_type": "stream",
     "text": [
      "<function <lambda> at 0x0000017439E961F8>\n",
      "<function <lambda> at 0x0000017439E2C5E8>\n"
     ]
    }
   ],
   "source": [
    "# Uniform\n",
    "n = 5\n",
    "X = np.linspace(1,n,n)\n",
    "sp_pdf = lambda k: 1/n # pointwise distribution\n",
    "si_cdf=lambda k: k/n  # cumulative distribution\n",
    "pdf = lambda x: sp_pdf(x)*(x in X) # discrete pdf\n",
    "print(pdf)\n",
    "cdf = lambda x: si_cdf(min(n,np.floor(x)))*(x>=1) # cdf\n",
    "print(cdf)"
   ]
  },
  {
   "cell_type": "code",
   "execution_count": 8,
   "metadata": {
    "Collapsed": "false"
   },
   "outputs": [
    {
     "data": {
      "image/png": "[encoded data removed]",
      "text/plain": [
       "<Figure size 432x288 with 1 Axes>"
      ]
     },
     "metadata": {
      "needs_background": "light"
     },
     "output_type": "display_data"
    }
   ],
   "source": [
    "# Bernoulli cdf\n",
    "x = np.linspace(-2,2,100)\n",
    "f = list(map(pdf,x))\n",
    "F = list(map(cdf,x))\n",
    "si_F = list(map(si_cdf,X))\n",
    "mystep(x,F,color=\"black\")\n",
    "plt.step(X,si_F,'o', markerfacecolor='black', markeredgecolor='black')\n",
    "plt.step(X-.01,list(map(cdf,X-.01)),'o', markerfacecolor='white', markeredgecolor='black')\n",
    "plt.xticks(X)\n",
    "plt.yticks(si_F,('$1-p$', '$1$')) \n",
    "ax = plt.gca()\n",
    "#ax.grid(True)\n",
    "ax.spines['left'].set_position('zero')\n",
    "ax.spines['right'].set_color('none')\n",
    "ax.spines['bottom'].set_position('zero')\n",
    "ax.spines['top'].set_color('none')\n",
    "plt.xlim(-2,2);\n",
    "plt.savefig(\"images/bernoulli_cdf.png\")"
   ]
  },
  {
   "cell_type": "code",
   "execution_count": 15,
   "metadata": {
    "Collapsed": "false"
   },
   "outputs": [
    {
     "data": {
      "image/png": "[encoded data removed]",
      "text/plain": [
       "<Figure size 432x288 with 1 Axes>"
      ]
     },
     "metadata": {
      "needs_background": "light"
     },
     "output_type": "display_data"
    }
   ],
   "source": [
    "# Uniform cdf\n",
    "x = np.linspace(-1,7,100)\n",
    "f = list(map(pdf,x))\n",
    "F = list(map(cdf,x))\n",
    "si_F = list(map(si_cdf,X))\n",
    "mystep(x,F,color=\"black\")\n",
    "plt.step(X,si_F,'o', markerfacecolor='black', markeredgecolor='black')\n",
    "plt.step(X-.01,list(map(cdf,X-.01)),'o', markerfacecolor='white', markeredgecolor='black')\n",
    "plt.xticks(X)\n",
    "plt.yticks(si_F,('$1/5$','$2/5$','$3/5$','$4/5$','$1$')) \n",
    "ax = plt.gca()\n",
    "#ax.grid(True)\n",
    "ax.spines['left'].set_position('zero')\n",
    "ax.spines['right'].set_color('none')\n",
    "ax.spines['bottom'].set_position('zero')\n",
    "ax.spines['top'].set_color('none')\n",
    "plt.xlim(-1,7);\n",
    "plt.savefig(\"images/uniform_cdf.png\")"
   ]
  },
  {
   "cell_type": "code",
   "execution_count": 146,
   "metadata": {
    "Collapsed": "false"
   },
   "outputs": [
    {
     "data": {
      "image/png": "[encoded data removed]",
      "text/plain": [
       "<Figure size 432x288 with 1 Axes>"
      ]
     },
     "metadata": {
      "needs_background": "light"
     },
     "output_type": "display_data"
    }
   ],
   "source": [
    "# Bernoulli pdf\n",
    "sp_f = list(map(sp_pdf,X))\n",
    "plt.stem(X,sp_f,linefmt='k-', markerfmt='ko', basefmt='none', use_line_collection=True)\n",
    "plt.xticks(X)\n",
    "plt.yticks(sp_f,('$1-p$', '$p$')) \n",
    "ax = plt.gca()\n",
    "#ax.grid(True)\n",
    "ax.spines['left'].set_position('zero')\n",
    "ax.spines['right'].set_color('none')\n",
    "ax.spines['bottom'].set_position('zero')\n",
    "ax.spines['top'].set_color('none')\n",
    "plt.xlim(-2,2);\n",
    "plt.savefig(\"images/bernoulli_pdf.png\")"
   ]
  },
  {
   "cell_type": "code",
   "execution_count": 24,
   "metadata": {
    "Collapsed": "false"
   },
   "outputs": [
    {
     "data": {
      "image/png": "[encoded data removed]",
      "text/plain": [
       "<Figure size 432x288 with 1 Axes>"
      ]
     },
     "metadata": {
      "needs_background": "light"
     },
     "output_type": "display_data"
    }
   ],
   "source": [
    "# Uniform pdf\n",
    "sp_f = list(map(sp_pdf,X))\n",
    "plt.stem(X,sp_f,linefmt='k-', markerfmt='ko', basefmt='none', use_line_collection=True)\n",
    "plt.xticks(X)\n",
    "plt.yticks(sp_f) \n",
    "ax = plt.gca()\n",
    "#ax.grid(True)\n",
    "ax.spines['left'].set_position('zero')\n",
    "ax.spines['right'].set_color('none')\n",
    "ax.spines['bottom'].set_position('zero')\n",
    "ax.spines['top'].set_color('none')\n",
    "plt.xlim(-1,7);\n",
    "plt.savefig(\"images/uniform_pdf.png\")"
   ]
  },
  {
   "cell_type": "code",
   "execution_count": 1,
   "metadata": {
    "Collapsed": "false",
    "graffitiCellId": "id_cdaijt4"
   },
   "outputs": [
    {
     "ename": "ModuleNotFoundError",
     "evalue": "No module named 'symbulate'",
     "output_type": "error",
     "traceback": [
      "\u001b[1;31m---------------------------------------------------------------------------\u001b[0m",
      "\u001b[1;31mModuleNotFoundError\u001b[0m                       Traceback (most recent call last)",
      "\u001b[1;32m<ipython-input-1-3ebf7ab2090d>\u001b[0m in \u001b[0;36m<module>\u001b[1;34m\u001b[0m\n\u001b[1;32m----> 1\u001b[1;33m \u001b[1;32mfrom\u001b[0m \u001b[0msymbulate\u001b[0m \u001b[1;32mimport\u001b[0m \u001b[1;33m*\u001b[0m\u001b[1;33m\u001b[0m\u001b[1;33m\u001b[0m\u001b[0m\n\u001b[0m",
      "\u001b[1;31mModuleNotFoundError\u001b[0m: No module named 'symbulate'"
     ]
    }
   ],
   "source": [
    "from symbulate import *"
   ]
  },
  {
   "cell_type": "code",
   "execution_count": 16,
   "metadata": {
    "Collapsed": "false",
    "graffitiCellId": "id_5cknzzv"
   },
   "outputs": [],
   "source": [
    "from collections import Counter"
   ]
  },
  {
   "cell_type": "code",
   "execution_count": 17,
   "metadata": {
    "Collapsed": "false",
    "graffitiCellId": "id_3tvp30u"
   },
   "outputs": [],
   "source": [
    "c = Counter({'a':5, 'b':3})"
   ]
  },
  {
   "cell_type": "code",
   "execution_count": 19,
   "metadata": {
    "Collapsed": "false",
    "graffitiCellId": "id_mkh7zht"
   },
   "outputs": [
    {
     "data": {
      "text/plain": [
       "Counter({'a': 5, 'b': 3})"
      ]
     },
     "execution_count": 19,
     "metadata": {},
     "output_type": "execute_result"
    }
   ],
   "source": [
    "c"
   ]
  },
  {
   "cell_type": "code",
   "execution_count": 1,
   "metadata": {
    "Collapsed": "false",
    "graffitiCellId": "id_bgw424q"
   },
   "outputs": [
    {
     "ename": "NameError",
     "evalue": "name 'BoxModel' is not defined",
     "output_type": "error",
     "traceback": [
      "\u001b[1;31m---------------------------------------------------------------------------\u001b[0m",
      "\u001b[1;31mNameError\u001b[0m                                 Traceback (most recent call last)",
      "\u001b[1;32m<ipython-input-1-0bb680e1f31d>\u001b[0m in \u001b[0;36m<module>\u001b[1;34m\u001b[0m\n\u001b[1;32m----> 1\u001b[1;33m \u001b[0mP\u001b[0m \u001b[1;33m=\u001b[0m \u001b[0mBoxModel\u001b[0m\u001b[1;33m(\u001b[0m\u001b[1;33m[\u001b[0m\u001b[1;36m1\u001b[0m\u001b[1;33m,\u001b[0m \u001b[1;36m2\u001b[0m\u001b[1;33m,\u001b[0m \u001b[1;36m3\u001b[0m\u001b[1;33m]\u001b[0m\u001b[1;33m,\u001b[0m \u001b[0msize\u001b[0m \u001b[1;33m=\u001b[0m \u001b[1;36m1\u001b[0m\u001b[1;33m,\u001b[0m \u001b[0mreplace\u001b[0m \u001b[1;33m=\u001b[0m \u001b[1;32mTrue\u001b[0m\u001b[1;33m)\u001b[0m\u001b[1;33m\u001b[0m\u001b[1;33m\u001b[0m\u001b[0m\n\u001b[0m",
      "\u001b[1;31mNameError\u001b[0m: name 'BoxModel' is not defined"
     ]
    }
   ],
   "source": [
    "P = BoxModel([1, 2, 3], size = 1, replace = True)"
   ]
  },
  {
   "cell_type": "code",
   "execution_count": 8,
   "metadata": {
    "Collapsed": "false",
    "graffitiCellId": "id_8xdcjua"
   },
   "outputs": [
    {
     "name": "stdout",
     "output_type": "stream",
     "text": [
      "{2: 3304, 1: 3349, 3: 3347}\n"
     ]
    }
   ],
   "source": [
    "print(P.sim(10000).tabulate())"
   ]
  },
  {
   "cell_type": "code",
   "execution_count": 5,
   "metadata": {
    "Collapsed": "false",
    "graffitiCellId": "id_biimgjm"
   },
   "outputs": [
    {
     "data": {
      "text/plain": [
       "array([43, 48, 53, 58, 63, 68, 73])"
      ]
     },
     "execution_count": 5,
     "metadata": {},
     "output_type": "execute_result"
    }
   ],
   "source": [
    "MCA + 3 + np.arange(0,35,5)"
   ]
  },
  {
   "cell_type": "code",
   "execution_count": 6,
   "metadata": {
    "Collapsed": "false",
    "graffitiCellId": "id_1oxhimv",
    "tags": [
     "hide_input"
    ]
   },
   "outputs": [
    {
     "data": {
      "text/plain": [
       "5"
      ]
     },
     "execution_count": 6,
     "metadata": {},
     "output_type": "execute_result"
    }
   ],
   "source": [
    "k = 5*(MCA<50)+6*(MCA>=50)*(MCA<=64)+7*(MCA>=65)\n",
    "k"
   ]
  },
  {
   "cell_type": "code",
   "execution_count": 40,
   "metadata": {
    "Collapsed": "false",
    "graffitiCellId": "id_gz7z4x5"
   },
   "outputs": [],
   "source": [
    "FPG = 5 "
   ]
  },
  {
   "cell_type": "code",
   "execution_count": 41,
   "metadata": {
    "Collapsed": "false",
    "graffitiCellId": "id_7dyp4zd"
   },
   "outputs": [],
   "source": [
    "X = np.random.randint(20, high=90, size=10)"
   ]
  },
  {
   "cell_type": "code",
   "execution_count": 45,
   "metadata": {
    "Collapsed": "false",
    "graffitiCellId": "id_7qmm2qg"
   },
   "outputs": [],
   "source": [
    "Y = (X-MCA)/2"
   ]
  },
  {
   "cell_type": "code",
   "execution_count": 47,
   "metadata": {
    "Collapsed": "false",
    "graffitiCellId": "id_elpseth"
   },
   "outputs": [
    {
     "data": {
      "text/plain": [
       "array([73, 39, 35, 28, 58, 82, 59, 20, 39, 46])"
      ]
     },
     "execution_count": 47,
     "metadata": {},
     "output_type": "execute_result"
    }
   ],
   "source": [
    "X"
   ]
  },
  {
   "cell_type": "code",
   "execution_count": 48,
   "metadata": {
    "Collapsed": "false",
    "graffitiCellId": "id_7kumjdd"
   },
   "outputs": [
    {
     "data": {
      "text/plain": [
       "array([ 16.5,  -0.5,  -2.5,  -6. ,   9. ,  21. ,   9.5, -10. ,  -0.5,\n",
       "         3. ])"
      ]
     },
     "execution_count": 48,
     "metadata": {},
     "output_type": "execute_result"
    }
   ],
   "source": [
    "Y"
   ]
  }
 ],
 "metadata": {
  "graffiti": {
   "firstAuthorId": "dev",
   "id": "id_tk0y915",
   "language": "EN"
  },
  "kernelspec": {
   "display_name": "Python 3",
   "language": "python",
   "name": "python3"
  },
  "language_info": {
   "codemirror_mode": {
    "name": "ipython",
    "version": 3
   },
   "file_extension": ".py",
   "mimetype": "text/x-python",
   "name": "python",
   "nbconvert_exporter": "python",
   "pygments_lexer": "ipython3",
   "version": "3.7.6"
  }
 },
 "nbformat": 4,
 "nbformat_minor": 4
}

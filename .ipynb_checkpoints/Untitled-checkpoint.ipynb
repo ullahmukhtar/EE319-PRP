{
 "cells": [
  {
   "cell_type": "code",
   "execution_count": 1,
   "metadata": {
    "Collapsed": "false",
    "graffitiCellId": "id_cdaijt4"
   },
   "outputs": [],
   "source": [
    "from symbulate import *"
   ]
  },
  {
   "cell_type": "code",
   "execution_count": 16,
   "metadata": {
    "Collapsed": "false",
    "graffitiCellId": "id_5cknzzv"
   },
   "outputs": [],
   "source": [
    "from collections import Counter"
   ]
  },
  {
   "cell_type": "code",
   "execution_count": 17,
   "metadata": {
    "Collapsed": "false",
    "graffitiCellId": "id_3tvp30u"
   },
   "outputs": [],
   "source": [
    "c = Counter({'a':5, 'b':3})"
   ]
  },
  {
   "cell_type": "code",
   "execution_count": 19,
   "metadata": {
    "Collapsed": "false",
    "graffitiCellId": "id_mkh7zht"
   },
   "outputs": [
    {
     "data": {
      "text/plain": [
       "Counter({'a': 5, 'b': 3})"
      ]
     },
     "execution_count": 19,
     "metadata": {},
     "output_type": "execute_result"
    }
   ],
   "source": [
    "c"
   ]
  },
  {
   "cell_type": "code",
   "execution_count": 7,
   "metadata": {
    "Collapsed": "false",
    "graffitiCellId": "id_bgw424q"
   },
   "outputs": [],
   "source": [
    "P = BoxModel([1, 2, 3], size = 1, replace = True)"
   ]
  },
  {
   "cell_type": "code",
   "execution_count": 8,
   "metadata": {
    "Collapsed": "false",
    "graffitiCellId": "id_8xdcjua"
   },
   "outputs": [
    {
     "name": "stdout",
     "output_type": "stream",
     "text": [
      "{2: 3304, 1: 3349, 3: 3347}\n"
     ]
    }
   ],
   "source": [
    "print(P.sim(10000).tabulate())"
   ]
  },
  {
   "cell_type": "code",
   "execution_count": 5,
   "metadata": {
    "Collapsed": "false",
    "graffitiCellId": "id_biimgjm"
   },
   "outputs": [
    {
     "data": {
      "text/plain": [
       "array([43, 48, 53, 58, 63, 68, 73])"
      ]
     },
     "execution_count": 5,
     "metadata": {},
     "output_type": "execute_result"
    }
   ],
   "source": [
    "MCA + 3 + np.arange(0,35,5)"
   ]
  },
  {
   "cell_type": "code",
   "execution_count": 6,
   "metadata": {
    "Collapsed": "false",
    "graffitiCellId": "id_1oxhimv",
    "tags": [
     "hide_input"
    ]
   },
   "outputs": [
    {
     "data": {
      "text/plain": [
       "5"
      ]
     },
     "execution_count": 6,
     "metadata": {},
     "output_type": "execute_result"
    }
   ],
   "source": [
    "k = 5*(MCA<50)+6*(MCA>=50)*(MCA<=64)+7*(MCA>=65)\n",
    "k"
   ]
  },
  {
   "cell_type": "code",
   "execution_count": 40,
   "metadata": {
    "Collapsed": "false",
    "graffitiCellId": "id_gz7z4x5"
   },
   "outputs": [],
   "source": [
    "FPG = 5 "
   ]
  },
  {
   "cell_type": "code",
   "execution_count": 41,
   "metadata": {
    "Collapsed": "false",
    "graffitiCellId": "id_7dyp4zd"
   },
   "outputs": [],
   "source": [
    "X = np.random.randint(20, high=90, size=10)"
   ]
  },
  {
   "cell_type": "code",
   "execution_count": 45,
   "metadata": {
    "Collapsed": "false",
    "graffitiCellId": "id_7qmm2qg"
   },
   "outputs": [],
   "source": [
    "Y = (X-MCA)/2"
   ]
  },
  {
   "cell_type": "code",
   "execution_count": 47,
   "metadata": {
    "Collapsed": "false",
    "graffitiCellId": "id_elpseth"
   },
   "outputs": [
    {
     "data": {
      "text/plain": [
       "array([73, 39, 35, 28, 58, 82, 59, 20, 39, 46])"
      ]
     },
     "execution_count": 47,
     "metadata": {},
     "output_type": "execute_result"
    }
   ],
   "source": [
    "X"
   ]
  },
  {
   "cell_type": "code",
   "execution_count": 48,
   "metadata": {
    "Collapsed": "false",
    "graffitiCellId": "id_7kumjdd"
   },
   "outputs": [
    {
     "data": {
      "text/plain": [
       "array([ 16.5,  -0.5,  -2.5,  -6. ,   9. ,  21. ,   9.5, -10. ,  -0.5,\n",
       "         3. ])"
      ]
     },
     "execution_count": 48,
     "metadata": {},
     "output_type": "execute_result"
    }
   ],
   "source": [
    "Y"
   ]
  }
 ],
 "metadata": {
  "graffiti": {
   "firstAuthorId": "dev",
   "id": "id_tk0y915",
   "language": "EN"
  },
  "kernelspec": {
   "display_name": "Python 3",
   "language": "python",
   "name": "python3"
  },
  "language_info": {
   "codemirror_mode": {
    "name": "ipython",
    "version": 3
   },
   "file_extension": ".py",
   "mimetype": "text/x-python",
   "name": "python",
   "nbconvert_exporter": "python",
   "pygments_lexer": "ipython3",
   "version": "3.7.6"
  }
 },
 "nbformat": 4,
 "nbformat_minor": 4
}

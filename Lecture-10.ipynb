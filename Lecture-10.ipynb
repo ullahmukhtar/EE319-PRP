{
 "cells": [
  {
   "cell_type": "markdown",
   "metadata": {},
   "source": [
    "# EE319 - Probability & Random Processes\n",
    "## *Dr.-Ing. Mukhtar Ullah*, FAST NUCES, Spring 2020\n",
    "<hr>\n",
    "\n",
    "## **Lecture 10** (2020-02-21)"
   ]
  },
  {
   "cell_type": "markdown",
   "metadata": {},
   "source": [
    "### Counting beyond Common Sense\n",
    "- A dog trainer wants to buy $8$ dogs all of which are either cocker spaniels, Irish setters, or Russian wolfhounds. In how many ways can she make the choice?\n",
    "\n",
    ">Viewed as a placement problem, the “$8$ dogs” are our “indistinguishable objects”, each denoted by $\\mathsf{d}$, to be placed without exclusion in three different cells labelled 1 (cocker spaniels), 2 (Irish setters) and 3 (Russian wolfhounds). The different placements can be depicted by strings of $8\\ \\mathsf{d}$'s with two partitioing bars placed at different positions. In other words, each different placement requires to choose two different positions for the bars from the available 8+(3-1) positions. That amounts to $\\binom{8+3-1}{3-1}$ different ways to buy the dogs.\n",
    "\n",
    "- Derive a simple formula for the number of ways to buy $k$ dogs if there are $n$ varieties to choose from.\n",
    "\n",
    ">$$\\binom{k+n-1}{n-1}=\\binom{k+n-1}{k}$$\n",
    "\n",
    "- Derive a simple formula for the number of solutions in nonnegative integers of $x_1 +x_2 + \\cdots + x_n = k$.\n",
    "\n",
    ">$$\\binom{k+n-1}{n-1}=\\binom{k+n-1}{k}$$\n",
    "\n",
    "- In how many ways may five people be seated in a row of twenty chairs given that no two people may sit next to one another?\n",
    "\n",
    ">Any seating arrangement (of 5 people in a row of 20 chairs) that meets the restriction “no two people may sit next to one another” can be mapped to a seating arrangement (of 5 people in a row of 16 chairs) if one chair is removed from between each pair of people. The new types of seating arrangments is unrestricted in the sense that two people may sit next to one another. The number of seating arrangements then equals $\\binom{16+5-1}{5-1}$.\n",
    "\n",
    "- How many nonnegative integer solutions are there to $x_1 + x_2 + x_3 \\le 50$?\n",
    "\n",
    ">The inequality can be turned into an equality\n",
    "$$x_1 + x_2 + x_3 + x_4 = 50$$\n",
    "provided $x_4$ is a nonnegative integer large enough for the equation to hold. The number of nonnegative integer solutions then equals $\\binom{50+4-1}{4-1}$."
   ]
  },
  {
   "cell_type": "markdown",
   "metadata": {},
   "source": [
    "### Principle of Inclusion-Exclusion (PIE)\n",
    "- There are 100 students taking language classes at Austin High School. If 60 are taking German and 75 are taking Spanish and these are the only languages taught, how many students take both Spanish and German?\n",
    "\n",
    ">Define the following events:\n",
    "\\begin{align*}\n",
    "\\mathsf{G} & \\leftrightarrow\\text{‘Student takes German’}\\\\\n",
    "\\mathsf{S} & \\leftrightarrow\\text{‘Student takes Spanish’}\\\\\n",
    "\\mathsf{S}\\cup \\mathsf{G} & \\leftrightarrow\\text{‘Student takes language classes’}\\\\\n",
    "\\mathsf{S}\\cap \\mathsf{G} & \\leftrightarrow\\text{‘Student takes both Spanish and German’}\n",
    "\\end{align*}\n",
    "The number of students taking both Spanish and German is \n",
    "$$\\left|\\mathsf{S}\\cap \\mathsf{G}\\right|=\\left|\\mathsf{S}\\right|+\\left|\\mathsf{G}\\right|-\\left|\\mathsf{S}\\cup \\mathsf{G}\\right|=75+60-100=35$$"
   ]
  }
 ],
 "metadata": {
  "kernelspec": {
   "display_name": "Python 3",
   "language": "python",
   "name": "python3"
  },
  "language_info": {
   "codemirror_mode": {
    "name": "ipython",
    "version": 3
   },
   "file_extension": ".py",
   "mimetype": "text/x-python",
   "name": "python",
   "nbconvert_exporter": "python",
   "pygments_lexer": "ipython3",
   "version": "3.7.6"
  }
 },
 "nbformat": 4,
 "nbformat_minor": 4
}

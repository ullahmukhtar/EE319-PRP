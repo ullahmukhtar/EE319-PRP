{
 "cells": [
  {
   "cell_type": "markdown",
   "metadata": {},
   "source": [
    "# EE319 - Probability & Random Processes\n",
    "## *Dr. Ing. Mukhtar Ullah*, FAST NUCES, Spring 2020\n",
    "<hr>\n",
    "\n",
    "## **Lecture 10** (2020-02-21)"
   ]
  },
  {
   "cell_type": "markdown",
   "metadata": {},
   "source": [
    "### Counting beyond Common Sense\n",
    "- A dog trainer wants to buy $8$ dogs all of which are either cocker spaniels, Irish setters, or Russian wolfhounds. In how many ways can she make the choice?\n",
    "\n",
    ">Viewed as a placement problem, the “$8$ dogs” are our “indistinguishable objects”, each denoted by $\\mathsf{d}$, to be placed without exclusion in three different cells labelled 1 (cocker spaniels), 2 (Irish setters) and 3 (Russian wolfhounds). The different placements can be depicted by strings of $8\\ \\mathsf{d}$'s with two partitioing bars placed at different positions. In other words, each different placement requires to choose two different positions for the bars from the available 8+(3-1) positions. That amounts to $\\binom{8+3-1}{3-1}$ different ways to buy the dogs.\n",
    "\n",
    "- Derive a simple formula for the number of ways to buy $k$ dogs if there are $n$ varieties to choose from.\n",
    "\n",
    ">$$\\binom{k+n-1}{n-1}=\\binom{k+n-1}{k}$$\n",
    "\n",
    "- Derive a simple formula for the number of solutions in nonnegative integers of $x_1 +x_2 + \\cdots + x_n = k$.\n",
    "\n",
    ">$$\\binom{k+n-1}{n-1}=\\binom{k+n-1}{k}$$\n",
    "\n",
    "- In how many ways may five people be seated in a row of twenty chairs given that no two people may sit next to one another?\n",
    "\n",
    ">Any seating arrangement (of 5 people in a row of 20 chairs) that meets the restriction “no two people may sit next to one another” can be mapped to a seating arrangement (of 5 people in a row of 16 chairs) if one chair is removed from between each pair of people. The new types of seating arrangments is unrestricted in the sense that two people may sit next to one another. The number of seating arrangements then equals $\\binom{16+5-1}{5-1}$.\n",
    "\n",
    "- How many nonnegative integer solutions are there to $x_1 + x_2 + x_3 \\le 50$?\n",
    "\n",
    ">The inequality can be turned into an equality\n",
    "$$x_1 + x_2 + x_3 + x_4 = 50$$\n",
    "provided $x_4$ is a nonnegative integer large enough for the equation to hold. The number of nonnegative integer solutions then equals $\\binom{50+4-1}{4-1}$."
   ]
  },
  {
   "cell_type": "markdown",
   "metadata": {},
   "source": [
    "### Principle of Inclusion-Exclusion (PIE)\n",
    "- There are 100 students taking language classes at Austin High School. If 60 are taking German and 75 are taking Spanish and these are the only languages taught, how many students take both Spanish and German?\n",
    "\n",
    ">Define the following events:\n",
    "\\begin{align*}\n",
    "\\mathsf{G} & \\leftrightarrow\\text{‘Student takes German’}\\\\\n",
    "\\mathsf{S} & \\leftrightarrow\\text{‘Student takes Spanish’}\\\\\n",
    "\\mathsf{S}\\cup \\mathsf{G} & \\leftrightarrow\\text{‘Student takes language classes’}\\\\\n",
    "\\mathsf{S}\\cap \\mathsf{G} & \\leftrightarrow\\text{‘Student takes both Spanish and German’}\n",
    "\\end{align*}\n",
    "The number of students taking both Spanish and German is \n",
    "$$\\left|\\mathsf{S}\\cap \\mathsf{G}\\right|=\\left|\\mathsf{S}\\right|+\\left|\\mathsf{G}\\right|-\\left|\\mathsf{S}\\cup \\mathsf{G}\\right|=75+60-100=35$$"
   ]
  },
  {
   "cell_type": "markdown",
   "metadata": {},
   "source": [
    "### Summary of Four  of Selection$\\leftrightarrow$Placement Cases\n",
    "The following sets are used in the summary.\n",
    "\\begin{align*}\n",
    "\\mathsf{\\Omega} & =\\left\\{ \\omega_{i}\\mid i\\in\\mathsf{N}\\right\\} \\leftrightarrow\\text{‘sample space’} & \\mathsf{N} & =\\left\\{ 1,2,\\ldots,n\\right\\} \\leftrightarrow\\text{‘Index set for different cells’}\\\\\n",
    "\\mathsf{K} & =\\left\\{ 1,2,\\ldots,k\\right\\} \\leftrightarrow\\text{‘Index set for selected elements’} & \\mathsf{S} & =\\left\\{ s_{i}\\mid i\\in\\mathsf{K}\\right\\} \\leftrightarrow\\text{‘Set of distinguishable objects’}\\\\\n",
    " &  &  & \\left\\{ s\\colon k\\right\\} \\leftrightarrow\\text{‘Multiset of indistinguishable objects’}\n",
    "\\end{align*}\n",
    "\n",
    "- Ordered Selection with Replacement $\\leftrightarrow$ Placement of Distinguishable Objects without Exclusion\n",
    "\n",
    "\\begin{align*}\n",
    "\\mathsf{\\Omega}^{k} & =\\Bigl\\{\\left(x_{i}\\right)_{i\\in\\mathsf{K}}\\mid x_{i}\\in\\mathsf{\\Omega}\\Bigr\\}\\leftrightarrow\\left\\{ \\left(\\mathsf{S}_{i}\\right)_{i\\in\\mathsf{N}}\\mid\\mathsf{S}_{i}\\subseteq\\mathsf{S},\\sum_{i=1}^{n}\\left|\\mathsf{S}_{i}\\right|=k\\right\\} \\\\\n",
    "\\left|\\mathsf{\\Omega}^{k}\\right| & =n^{k}\n",
    "\\end{align*}\n",
    "\n",
    "- Ordered Selection without Replacement $\\leftrightarrow$ Placement of Distinguishable Objects with Exclusion\n",
    "\n",
    "\\begin{align*}\n",
    "\\left(\\mathsf{\\Omega}\\right)_{k} & =\\left\\{ \\left(x_{i}\\right)_{i\\in\\mathsf{K}}\\mid x_{i}\\in\\mathsf{\\Omega}\\setminus\\bigcup_{j=1}^{i-1}\\left\\{ x_{j}\\right\\} \\right\\} \\leftrightarrow\\left\\{ \\left(\\mathsf{S}_{i}\\right)_{i\\in\\mathsf{N}}\\mid\\mathsf{S}_{i}\\subseteq\\mathsf{S},\\left|\\mathsf{S}_{i}\\right|\\le1,\\sum_{i=1}^{n}\\left|\\mathsf{S}_{i}\\right|=k\\right\\} \\\\\n",
    "\\left|\\left(\\mathsf{\\Omega}\\right)_{k}\\right| & =\\left(n\\right)_{k}=n\\left(n-1\\right)\\cdot\\cdots\\left(n-k+1\\right)=\\left(n-k+1\\right)^{(k)}\n",
    "\\end{align*}\n",
    "\n",
    "- Unordered Selection without Replacement $\\leftrightarrow$ Placement of Indistinguishable Objects with Exclusion\n",
    "\n",
    "\\begin{align*}\n",
    "\\binom{\\mathsf{\\Omega}}{k}=\\left\\{ \\left\\{ x_{i}\\mid i\\in\\mathsf{K}\\right\\} \\mid x_{i}\\in\\mathsf{\\Omega}\\setminus\\bigcup_{j=1}^{i-1}\\left\\{ x_{j}\\right\\} \\right\\}  & \\leftrightarrow\\left\\{ \\left(\\mathsf{S}_{i}\\right)_{i\\in\\mathsf{N}}\\mid\\mathsf{S}_{i}\\subseteq\\left\\{ s\\right\\} ,\\sum_{i=1}^{n}\\left|\\mathsf{S}_{i}\\right|=k\\right\\} \\\\\n",
    " & \\leftrightarrow\\left\\{ \\left(m_{i}\\right)_{i\\in\\mathsf{N}}\\mid m_{i}\\in\\left\\{ 0,1\\right\\} ,\\sum_{i=1}^{n}m_{i}=k\\right\\} \\\\\n",
    "\\left|\\binom{\\mathsf{\\Omega}}{k}\\right|=\\binom{n}{k}=\\frac{\\left(n\\right)_{k}}{k!}=\\binom{n}{n-k}\n",
    "\\end{align*}\n",
    "\n",
    "- Unordered Selection with Replacement $\\leftrightarrow$ Placement of Indistinguishable Objects without Exclusion\n",
    "\n",
    "\\begin{align*}\n",
    "\\biggl(\\!\\!\\binom{\\mathsf{\\Omega}}{k}\\!\\!\\biggr)=\\left\\{ \\left\\{ \\omega_{i}\\colon m_{i}\\mid i\\in\\mathsf{N}\\right\\} \\mid\\omega_{i}\\in\\mathsf{\\Omega},m_{i}\\in\\left\\{ 0\\right\\} \\cup\\mathsf{K},\\sum_{i=1}^{n}m_{i}=k\\right\\}  & \\leftrightarrow\\left\\{ \\left(\\mathsf{S}_{i}\\right)_{i\\in\\mathsf{N}}\\mid\\mathsf{S}_{i}\\subseteq\\left\\{ s\\colon k\\right\\} ,\\sum_{i=1}^{n}\\left|\\mathsf{S}_{i}\\right|=k\\right\\} \\\\\n",
    " & \\leftrightarrow\\left\\{ \\left(m_{i}\\right)_{i\\in\\mathsf{N}}\\mid m_{i}\\in\\left\\{ 0\\right\\} \\cup\\mathsf{K},\\sum_{i=1}^{n}m_{i}=k\\right\\} \\\\\n",
    "\\left|\\biggl(\\!\\!\\binom{\\mathsf{\\Omega}}{k}\\!\\!\\biggr)\\right|=\\biggl(\\!\\!\\binom{n}{k}\\!\\!\\biggr)=\\binom{n-1+k}{k}=\\frac{\\left(n-1+k\\right)_{k}}{k!}=\\frac{\\left(n\\right)^{(k)}}{k!}=\\binom{n-1+k}{n-1}\n",
    "\\end{align*}"
   ]
  }
 ],
 "metadata": {
  "kernelspec": {
   "display_name": "Python 3",
   "language": "python",
   "name": "python3"
  },
  "language_info": {
   "codemirror_mode": {
    "name": "ipython",
    "version": 3
   },
   "file_extension": ".py",
   "mimetype": "text/x-python",
   "name": "python",
   "nbconvert_exporter": "python",
   "pygments_lexer": "ipython3",
   "version": "3.7.6"
  }
 },
 "nbformat": 4,
 "nbformat_minor": 4
}

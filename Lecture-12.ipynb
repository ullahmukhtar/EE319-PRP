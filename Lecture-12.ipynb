{
 "cells": [
  {
   "cell_type": "markdown",
   "metadata": {},
   "source": [
    "# EE319 - Probability & Random Processes\n",
    "## *Dr.-Ing. Mukhtar Ullah*, FAST NUCES, Spring 2020\n",
    "<hr>\n",
    "\n",
    "## **Lecture 12** (2020-02-28)\n",
    "## More Applications of Probability"
   ]
  },
  {
   "cell_type": "markdown",
   "metadata": {},
   "source": [
    "### Resource allocation in voice packet transmission\n",
    "<img src=\"images/voice_packet_transmission.png\" width=\"70%\" />"
   ]
  },
  {
   "cell_type": "markdown",
   "metadata": {},
   "source": [
    "- What is the sample space\n",
    "\n",
    ">All the 48 users are either active or silent in each the fixed time interval. Therefore our base sample space is simply\n",
    "$$\\mathsf{\\Omega}=\\{\\mathrm{A},\\mathrm{S}\\}$$ \n",
    "\n",
    "- Which case of selection $\\leftrightarrow$ placement? \n",
    "\n",
    ">The users are indistinguishable because being active or silent is the only state that matters in this problem. More than one users can be active (or silent for that matter). The sequential experiment here is then\n",
    ">  - Unordered selection of size $48$ with replacement from a 2-element base space\n",
    ">  - Placement of $48$ intinguishable objects in two different cells \n",
    "\n",
    "- What is the probability that $k$ of $48$ users are active (during the fixed time interval)? \n",
    "\n",
    "> The base probabilities are $1/3$ for active and $2/3$ for silence. The required probability then equals\n",
    "\n",
    "$$\\binom{48}{k}\\left(\\frac{1}{3}\\right)\\left(\\frac{2}{3}\\right)^{48-k}$$"
   ]
  },
  {
   "cell_type": "markdown",
   "metadata": {},
   "source": [
    "### How many active speakers in a short time slot\n",
    "<img src=\"images/active_speakers_distribution.png\" width=\"70%\" />"
   ]
  },
  {
   "cell_type": "markdown",
   "metadata": {},
   "source": [
    "### System reliability\n",
    "- Given probability $p_i$ that link $i$ fails independently of other links, what is the probability of system failure?\n",
    "> Define events\n",
    "$$\\mathsf{F}_{i}\\leftrightarrow\\text{‘Link }i\\text{ functions’}\\qquad\\mathsf{F}\\leftrightarrow\\text{‘The system functions’}$$\n",
    "\n",
    "  - Links in series\n",
    ">  <img src=\"images/system_reliability_series.png\" width=\"70%\" />\n",
    ">\n",
    "The series configuration enforces the relation $\\mathsf{F}=\\bigcap_{i=1}^{k}\\mathsf{F}_{i}$ among the events.\n",
    "The required probability is\n",
    "$$P\\left(\\mathsf{F}^\\mathsf{c}\\right) = 1-P\\left(\\mathsf{F}\\right) = 1-P\\left(\\bigcap_{i=1}^{k}\\mathsf{F}_{i}\\right)=\\prod_{i=1}^{k}P\\left(\\mathsf{F}_{i}\\right)=\\prod_{i=1}^{k}\\left(1-p_{i}\\right)$$\n",
    "\n",
    "  - Links in parallel\n",
    ">  \n",
    ">  <img src=\"images/system_reliability_parallel.png\" width=\"60%\" />\n",
    ">\n",
    "> The parallel configuration enforces the relation $\\mathsf{F}^\\mathsf{c}=\\bigcap_{i=1}^{k}\\mathsf{F}_{i}^\\mathsf{c}$ among the events.\n",
    "The required probability is\n",
    "$$P\\left(\\mathsf{F}^\\mathsf{c}\\right) = P\\left(\\bigcap_{i=1}^{k}\\mathsf{F}_{i}^\\mathsf{c}\\right)=\\prod_{i=1}^{k}P\\left(\\mathsf{F}_{i}^\\mathsf{c}\\right)=\\prod_{i=1}^{k}p_{i}$$\n",
    "  \n",
    "  - Links in a complicated configuration\n",
    ">  \n",
    ">  <img src=\"images/system_reliability_mixed.png\" width=\"60%\" />\n",
    ">\n",
    "> Attacking this problem directly is not straightforward. Let us identify what makes this configuration difficult. It turns out to be link $5$. But the link can only exist in two states and we could deal with them separately.\n",
    "> - Link $5$ fails\n",
    ">\n",
    ">  <img src=\"images/system_reliability_mixed_1.png\" width=\"60%\" />\n",
    ">\n",
    ">      This conditional configuration enforces the conditional relation $\\mathsf{F}^\\mathsf{c}\\mid\\mathsf{F}_{5}^\\mathsf{c}=\\left(\\mathsf{F}_{1}\\cap\\mathsf{F}_{2}\\right)^\\mathsf{c}\\cap\\left(\\mathsf{F}_{3}\\cap\\mathsf{F}_{4}\\right)^\\mathsf{c}$ among the events. The conditional probability of system failure is\n",
    "$$P\\left(\\mathsf{F}^\\mathsf{c}\\mid\\mathsf{F}_{5}^\\mathsf{c}\\right)=\\Bigl(1-\\left(1-p_1\\right)\\left(1-p_2\\right)\\Bigr)\\Bigl(1-\\left(1-p_3\\right)\\left(1-p_4\\right)\\Bigr)$$\n",
    ">\n",
    "> - Link $5$ functions\n",
    ">\n",
    ">  <img src=\"images/system_reliability_mixed_2.png\" width=\"60%\" />\n",
    ">\n",
    ">      This conditional configuration enforces the conditional relation $\\mathsf{F}\\mid\\mathsf{F}_{5}=\\left(\\mathsf{F}_{1}^\\mathsf{c}\\cap\\mathsf{F}_{3}^\\mathsf{c}\\right)^\\mathsf{c}\\cap\\left(\\mathsf{F}_{2}^\\mathsf{c}\\cap\\mathsf{F}_{4}^\\mathsf{c}\\right)^\\mathsf{c}$ among the events. The conditional probability of system failure is\n",
    "$$P\\left(\\mathsf{F}^\\mathsf{c}\\mid\\mathsf{F}_{5}\\right)=1-P\\left(\\mathsf{F}\\mid\\mathsf{F}_{5}\\right)=1-\\left(1-p_{1}p_{3}\\right)\\left(1-p_{2}p_{4}\\right)$$\n",
    ">\n",
    ">The (unconditional) probability of system failure is obtained through the law of total probability.\n",
    "\\begin{align*}\n",
    "P\\left(\\mathsf{F}^\\mathsf{c}\\right) & =P\\left(\\mathsf{F}_{5}^\\mathsf{c}\\right)P\\left(\\mathsf{F}^\\mathsf{c}\\mid\\mathsf{F}_{5}^\\mathsf{c}\\right)+P\\left(\\mathsf{F}_{5}\\right)P\\left(\\mathsf{F}^\\mathsf{c}\\mid\\mathsf{F}_{5}\\right)\\\\\n",
    " & =p_{5}\\Bigl(1-\\left(1-p_1\\right)\\left(1-p_2\\right)\\Bigr)\\Bigl(1-\\left(1-p_3\\right)\\left(1-p_4\\right)\\Bigr)+\\left(1-p_{5}\\right)\\Bigl(1-\\left(1-p_{1}p_{3}\\right)\\left(1-p_{2}p_{4}\\right)\\Bigr)\n",
    "\\end{align*}"
   ]
  },
  {
   "cell_type": "markdown",
   "metadata": {},
   "source": [
    "### Balls in a urn\n",
    "- An urn contains five balls numbered $1$ to $5$. Suppose we draw three balls with replacement. What is the probability that all three balls are different?\n",
    "> The base sample space has size $5$. The sample space of drawing three balls with replacement has size $5^3$. The event representing three different balls drawn has size $(5)_3$. The required probability is thus\n",
    "$$\\dfrac{(5)_3}{\\mathsf{5^3}}$$\n",
    "\n",
    "### Balls in cells\n",
    "- Suppose that $12$ balls are placed at random into $12$ cells, where more than 1 ball is allowed to occupy a cell. What is the probability that all cells are occupied?\n",
    "> All cells can be occupied only if each cell receives exactly one ball. The balls to be placed are indistinguishable. Since the elementary events of the combined experiment are not equiprobable, we must use the probability measure of the associated experiment in which the balls are viewed as distinguishable. Assuming a uniform base probability distribution, the required probability is then\n",
    "$$\\dfrac{1}{12^{12}}\\binom{12}{1,1,\\cdots,1}=\\dfrac{12!}{12^{12}}$$\n",
    "\n",
    "### Airplace crashes in a year\n",
    "- Given that 12 airplane crashes occur at random in a year, what is the probability that there is exactly 1 crash each month?\n",
    "> Assuming a uniform base probability distribution, the required probability is the same as above\n",
    "$$\\dfrac{12!}{12^{12}}$$\n",
    "However, assuming that the same probability of a plane crash every does not seem to be realistic as evident from the extremely small probability obained above."
   ]
  },
  {
   "cell_type": "markdown",
   "metadata": {},
   "source": [
    "### Birthday problem\n",
    "- What is the minimum number of people who need to be in a room so that it is more likely than not that at least two of them have the same birthday?\n",
    ">We need to solve a simpler problem first.\n",
    ">\n",
    ">*Determine the probability that, in a set of $n$ randomly chosen people in a room, there is at least one\n",
    "pair of people who have the same birthday.*\n",
    ">\n",
    ">Assume the following for convenience.\n",
    ">\n",
    ">     - It is not a leap year\n",
    ">     - Each day of the year is equally probable for a birthday\n",
    ">     - Birthdays of the people in the room are independent\n",
    ">     - There are no twins, triplets, and so on.\n",
    "> The base sample space has $365$ elements representing the possible birthdays for an individual under the stated assumptions. The essential point to note in the problem statement is the element of surprise or coincidence. It will not surprise you to know that two twins have the same birthday. Two persons, different otherwise, with the same birthday will surpise you. Under the stated assumptions, asking and noting the birthdays of $n$ randomly chosen people in a room is equivalent to the following experiments.\n",
    ">  - Ordered selection of $n$ objects from a base sample space of $365$ elements\n",
    ">  - Placement of $n$ distinguishable objects in $365$ different cells\n",
    ">\n",
    ">Let us define the event of our interest\n",
    "$$\\mathsf{A}\\leftrightarrow\\text{‘At least two people have the same birthday’}$$\n",
    ">It is much easier, however, to work out the probabiliy of an event that is exactly the opposite of our interest. \n",
    "$$\\mathsf{A}^\\mathsf{c}\\leftrightarrow\\text{‘No two people have the same birthday’}$$\n",
    "The assumed uniform base probability distribution allows to write\n",
    "$$P\\left(\\mathsf{A}^\\mathsf{c}\\right)=\\dfrac{\\left(365\\right)_{n}}{365^{n}}$$\n",
    "The required probability (that at least two people have the same birthday) is then\n",
    "$$P\\left(\\mathsf{A}\\right)=1-\\dfrac{\\left(365\\right)_n}{365^{n}}$$\n",
    "Getting back to the original problem, we need to find the smallest $n$ that satisfies $P\\left(\\mathsf{A}\\right)>P\\left(\\mathsf{A}^\\mathsf{c}\\right)$, or, equivalently, $P\\left(\\mathsf{A}^\\mathsf{c}\\right)<1/2$. That casts our problem to finding the smallest $n$ satisfying $\\left(365\\right)_{n}/365^{n}<1/2$. Let us write $m=365$ for convenience and work out the math as follows.\n",
    "$$\\frac{1}{2}>\\frac{\\left(m\\right)_{n}}{m^{n}}=\\frac{m}{m}\\frac{\\left(m-1\\right)}{m}\\cdots\\frac{\\left(m-n+1\\right)}{m}=\\left(1-\\frac{1}{m}\\right)\\left(1-\\frac{2}{m}\\right)\\cdots\\left(1-\\frac{n-1}{m}\\right)$$\n",
    "It would be hopeless to try a solution to this inequality directly.\n",
    "Let us turn the product to a sum by taking natural logarithm.\n",
    "$$\\ln\\frac{1}{2}>\\ln\\left(1-\\frac{1}{m}\\right)+\\ln\\left(1-\\frac{2}{m}\\right)+\\cdots+\\ln\\left(1-\\frac{n-1}{m}\\right)$$\n",
    "Recall a nice property of the exponential function, $\\mathrm{e}^{x}\\approx1+x$,\n",
    "that holds for small $x$. Taking the natural logarithm on both sides\n",
    "gives $x\\approx\\ln\\left(1+x\\right)$. This property of natural logarithm has a deeper meaning in the context of plots using logarithm scales: a small increment on a linear scale corresponds to almost the same increment on the corresponding logarithmic scale if the natural logarithm has been used. This should give you enough reason to see why it is called the natural logarithm. We can use this property to\n",
    "our advantage here if $m\\gg n$.\n",
    "\\begin{align*}\n",
    "\\ln\\frac{1}{2} & >\\ln\\left(1-\\frac{1}{m}\\right)+\\ln\\left(1-\\frac{2}{m}\\right)+\\cdots+\\ln\\left(1-\\frac{n-1}{m}\\right)\\\\\n",
    " & \\approx-\\frac{1}{m}-\\frac{2}{m}-\\cdots-\\frac{n-1}{m}\\\\\n",
    " & =-\\frac{\\left(n-1\\right)n}{2m}\n",
    "\\end{align*}\n",
    "That simplifies to\n",
    "$$\\left(n-1\\right)n>-2m\\ln\\frac{1}{2}=2m\\ln2$$\n",
    "Noting that the left side is smaller than $n^{2}$, the inequality\n",
    "can be simplifed even further.\n",
    "$$n^{2}>-2m\\ln\\frac{1}{2}=2m\\ln2\\implies n>\\sqrt{2m\\ln2}=\\sqrt{2\\times365\\times\\ln2}\\approx22.5$$\n",
    "The smallest integer value of $n$ satisfying the last inequality is $23$. Thus at least 23 people are needed to make at least one coincidence of birthdays more likely than no coincidence at all.\n",
    ">\n",
    ">If you find this number surprisingly small, you need to realize that the number of distinct pairs of people, $\\binom{23}{2}=253$, is large enough for a birthday match to be more likely than not."
   ]
  }
 ],
 "metadata": {
  "kernelspec": {
   "display_name": "Python 3",
   "language": "python",
   "name": "python3"
  },
  "language_info": {
   "codemirror_mode": {
    "name": "ipython",
    "version": 3
   },
   "file_extension": ".py",
   "mimetype": "text/x-python",
   "name": "python",
   "nbconvert_exporter": "python",
   "pygments_lexer": "ipython3",
   "version": "3.7.6"
  }
 },
 "nbformat": 4,
 "nbformat_minor": 4
}

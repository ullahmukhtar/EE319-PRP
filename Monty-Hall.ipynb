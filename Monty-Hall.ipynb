{
 "cells": [
  {
   "cell_type": "markdown",
   "metadata": {},
   "source": [
    "# EE319 - Probability & Random Processes\n",
    "## *Dr.-Ing. Mukhtar Ullah*, FAST NUCES, Spring 2020\n",
    "<hr>\n",
    "\n",
    "### The Monty Hall Problem\n",
    "This problem comes from a popular U.S. television show called “Let’s Make a Deal”. The show host, Monty Hall, would hide a car behind one of three doors and a goat behind each of the other two doors. The contestant is invited to choose one of the doors. Monty Hall opens one of the remaining two doors so as to reveal a goat. He then gives the contestant the option to either stay with his original choice or to switch to the remaining unopened door. Is it in the interest of the contestant to switch?"
   ]
  },
  {
   "cell_type": "markdown",
   "metadata": {},
   "source": [
    "<img src=\"images/montyhallproblem.png\" width=\"70%\" />"
   ]
  },
  {
   "cell_type": "markdown",
   "metadata": {},
   "source": [
    "## Naive Approach\n",
    "It is tempting to suppose, because Monty Hall always opens a door with a goat behind, that no information has been conveyed. Thus the contestant will be left with two equally likely doors and a probability 1/2 of winning regardless of whether (s)he switches or not. This line of reasoning, while appealing, is wrong."
   ]
  },
  {
   "cell_type": "markdown",
   "metadata": {
    "slideshow": {
     "slide_type": "slide"
    }
   },
   "source": [
    "## An Elegent (but less revealing) Approach\n",
    "Since both Monty Hall and the contestant are part of the game, the decision of whether to switch or not is essentially as choice between two different experiments which we will refer to as the \"stay strategy\" and \"switch strategy\". Define the events\n",
    "\\begin{align*}\n",
    "\\mathsf{C} & \\leftrightarrow\\text{“Initial pick hides the car”}\\\\\n",
    "\\mathsf{C}^{\\prime} & \\leftrightarrow\\text{“Initial pick hides a goat”}\\\\\n",
    "\\mathsf{W} & \\leftrightarrow\\text{“The contestant wins the car”}\n",
    "\\end{align*}\n",
    "It is reasonable to assume the following probability assignment.\n",
    "\\begin{align*}\n",
    "P\\left(\\mathsf{C}\\right) & =\\frac{1}{3} & P\\left(\\mathsf{C}^{\\prime}\\right) & =\\frac{2}{3}\n",
    "\\end{align*}\n",
    "Let us consider the two strtategies separately.\n",
    "### The Stay Strategy\n",
    "The strategy of staying with the initial pick can be modeled by the following conditional probabilities:\n",
    "\\begin{align*}\n",
    "P\\left(\\mathsf{W}\\mid \\mathsf{C}\\right) & =1 & P\\left(\\mathsf{W}\\mid \\mathsf{C}^{\\prime}\\right) & =0\n",
    "\\end{align*}\n",
    "The probability of win follows from the law of total probability:\n",
    "$$P\\left(\\mathsf{W}\\right)=P\\left(\\mathsf{C}\\right)P\\left(\\mathsf{W}\\mid \\mathsf{C}\\right)+P\\left(\\mathsf{C}^{\\prime}\\right)P\\left(\\mathsf{W}\\mid \\mathsf{C}^{\\prime}\\right)=\\frac{1}{3}\\times1+\\frac{2}{3}\\times0=\\frac{1}{3}$$\n",
    "### The Switch Strategy\n",
    "The strategy of switching the door can be modeled by the following conditional probabilities:\n",
    "\\begin{align*}\n",
    "P\\left(\\mathsf{W}\\mid \\mathsf{C}\\right) & =0 & P\\left(\\mathsf{W}\\mid \\mathsf{C}^{\\prime}\\right) & =1\n",
    "\\end{align*}\n",
    "The probability of win follows from the law of total probability:\n",
    "$$P\\left(\\mathsf{W}\\right)=P\\left(\\mathsf{C}\\right)P\\left(\\mathsf{W}\\mid \\mathsf{C}\\right)+P\\left(\\mathsf{C}^{\\prime}\\right)P\\left(\\mathsf{W}\\mid \\mathsf{C}^{\\prime}\\right)=\\frac{1}{3}\\times0+\\frac{2}{3}\\times1=\\frac{2}{3}$$\n",
    "Thus switching the door doubles the probabiliy of winning the car from $1/3$ to $2/3$."
   ]
  },
  {
   "cell_type": "markdown",
   "metadata": {
    "slideshow": {
     "slide_type": "slide"
    }
   },
   "source": [
    "## Bayesian Approach\n",
    "The simple and elegant approach above hides under the rug the actions of Monty Hall. The actions of Monty Hall can be revealed by following a Bayesian approach. Identify the doors with labels $\\{1,2,3\\}$. Define the events.\n",
    "\\begin{align*}\n",
    "\\mathsf{C}_{k} & \\leftrightarrow\\text{“Door }k\\text{ hides the car”}\\\\\n",
    "\\mathsf{D}_{k} & \\leftrightarrow\\text{“Monty Hall opens door}k\\text{”}\n",
    "\\end{align*}\n",
    "Assume the following scenario:\n",
    " - (stage 1) The contestant picks door $i$ initially\n",
    " - (stage 2) Monty Hall opens another door $m$ to reveal a goat\n",
    " - (stage 3) The contestant is given the option to switch to the remaining unopened door $r$.\n",
    "\n",
    "It is reasonable to assume the following probabilities at stage 1:\n",
    "$$P\\left(\\mathsf{C}_{i}\\right)=P\\left(\\mathsf{C}_{m}\\right)=P\\left(\\mathsf{C}_{r}\\right)=\\frac{1}{3}$$\n",
    "The actions of Monty Hall in stage 2 can be represented by conditional probabilities by the following reasoning.\n",
    "> -  Monty never opens the door picked by the contestant:\n",
    "\\begin{align*}\n",
    "P\\left(\\mathsf{D}_{i}\\right) & =0 & P\\left(\\mathsf{D}_{m}\\cup \\mathsf{D}_{r}\\right) & =1\n",
    "\\end{align*}\n",
    "> - Monty never reveals a car and has no preference for any particular goat:\n",
    "\\begin{align*}\n",
    "P\\left(\\mathsf{D}_{m}\\mid \\mathsf{C}_{i}\\right) & =\\frac{1}{2} & P\\left(\\mathsf{D}_{m}\\mid \\mathsf{C}_{m}\\right) & =0 & P\\left(\\mathsf{D}_{m}\\mid \\mathsf{C}_{r}\\right) & =1\\\\\n",
    "P\\left(\\mathsf{D}_{r}\\mid \\mathsf{C}_{i}\\right) & =\\frac{1}{2} & P\\left(\\mathsf{D}_{r}\\mid \\mathsf{C}_{m}\\right) & =1 & P\\left(\\mathsf{D}_{r}\\mid \\mathsf{C}_{r}\\right) & =0\n",
    "\\end{align*}\n",
    "\n",
    "We need the unconditional probability of $\\mathsf{D}_m$ and that follows from the law of total probability:\n",
    "$$P\\left(\\mathsf{D}_{m}\\right)=P\\left(\\mathsf{C}_{i}\\right)P\\left(\\mathsf{D}_{m}\\mid \\mathsf{C}_{i}\\right)+P\\left(\\mathsf{C}_{m}\\right)P\\left(\\mathsf{D}_{m}\\mid \\mathsf{C}_{m}\\right)+P\\left(\\mathsf{C}_{r}\\right)P\\left(\\mathsf{D}_{m}\\mid \\mathsf{C}_{r}\\right)=\\frac{1}{3}\\times\\left(\\frac{1}{2}+0+1\\right)=\\frac{1}{2}$$\n",
    "Next, applying Baye's theorem gives the posterior probabilitities \n",
    "\\begin{align*}\n",
    "P\\left(\\mathsf{C}_{i}\\mid \\mathsf{D}_{m}\\right) & =\\frac{P\\left(\\mathsf{C}_{i}\\right)P\\left(\\mathsf{D}_{m}\\mid \\mathsf{C}_{i}\\right)}{P\\left(\\mathsf{D}_{m}\\right)}=\\frac{\\frac{1}{3}\\times\\frac{1}{2}}{\\frac{1}{2}}=\\frac{1}{3}\\\\\n",
    "P\\left(\\mathsf{C}_{r}\\mid \\mathsf{D}_{m}\\right) & =\\frac{P\\left(\\mathsf{C}_{r}\\right)P\\left(\\mathsf{D}_{m}\\mid \\mathsf{C}_{r}\\right)}{P\\left(\\mathsf{D}_{m}\\right)}=\\frac{\\frac{1}{3}\\times1}{\\frac{1}{2}}=\\frac{2}{3}\n",
    "\\end{align*}\n",
    "Thus switching the door doubles the probabiliy of winning the car from $1/3$ to $2/3$."
   ]
  },
  {
   "cell_type": "markdown",
   "metadata": {
    "slideshow": {
     "slide_type": "slide"
    }
   },
   "source": [
    "## An Elementary Approach\n",
    "Both the above approaches avoid explicit enumeration of the underlying outcome space thanks to probability methods derived from conditional probability. A more elementary approach using the detailed outcome space is possible and is developed here. This detailed approach (to solve the Monty Hall problem) is unfortunately not covered in standard texts. This approach starts with enumeration of sample spaces for the two strategies (referred to above as the \"stay strategy\" and \"switch strategy\"). A typical outcome of each experiment is of the form $x_1 x_2 x_3$ where $x_i$ is the object behind the relevant door at stage $i$. Stage 1 corresponds to the initial pick by the contestant, stage 2 to the door opened by Monty Hall and stage 3 to the final choice of the contestant.  The object $x_i$ is replaced with $\\mathrm{C}$ for a car, $\\mathrm{G_1}$ for the first goat, and $\\mathrm{G_2}$ for the second goat. The 3-stage experiment can be viewed as a combined experiment with three component experiments, one at each stage. Denote by $P_i$ the probability measure of the component experiment at stage $i$. Write $P_{12}$ for the probability measure of the combined experiment of stages $1$ and $2$. To keep the notation consistent, write $P_{123}$ for the probability measure of the combined experiment of all three stages. Write $P_{j\\mid i}$ for the probability measure of the experiment of stage $j$ conditioned on (events of) experiment of stage $i$. Finally, write $P_{k\\mid ij}$ for the probability measure of the experiment of stage $k$ conditioned on (events of) the combined experiment of stages $i$-$j$\n",
    "### The Stay Strategy\n",
    "The sample space of this experiment is\n",
    "$$\\mathsf{\\Omega}=\\left\\{ \\mathrm{CG_{1}C},\\mathrm{CG_{2}C},\\mathrm{G_{1}G_{2}G_{1}},\\mathrm{G_{2}G_{1}G_{2}}\\right\\}$$\n",
    "The event $\\mathsf{W}=\\left\\{ \\mathrm{CG_{1}C},\\mathrm{CG_{2}C}\\right\\}$ then represents a win for the contestant.\n",
    "Probability assigment then follows from the multiplication rule of conditional probability.\n",
    "\\begin{align*}\n",
    "P_{123}\\left(\\left\\{ \\mathrm{CG_{1}C}\\right\\} \\right) & =P_{123}\\left(\\left\\{ \\mathrm{C}\\right\\} \\times\\left\\{ \\mathrm{G_{1}}\\right\\} \\times\\left\\{ \\mathrm{C}\\right\\} \\right)=P_{1}\\left(\\left\\{ \\mathrm{C}\\right\\} \\right)P_{2\\mid1}\\left(\\left\\{ \\mathrm{G_{1}}\\right\\} \\mid\\left\\{ \\mathrm{C}\\right\\} \\right)P_{3\\mid1}\\left(\\left\\{ \\mathrm{C}\\right\\} \\mid\\left\\{ \\mathrm{C}\\right\\} \\right)=\\frac{1}{3}\\times\\frac{1}{2}\\times1=\\frac{1}{6}\\\\\n",
    "P_{123}\\left(\\left\\{ \\mathrm{CG_{2}C}\\right\\} \\right) & =P_{123}\\left(\\left\\{ \\mathrm{C}\\right\\} \\times\\left\\{ \\mathrm{G_{2}}\\right\\} \\times\\left\\{ \\mathrm{C}\\right\\} \\right)=P_{1}\\left(\\left\\{ \\mathrm{C}\\right\\} \\right)P_{2\\mid1}\\left(\\left\\{ \\mathrm{G_{2}}\\right\\} \\mid\\left\\{ \\mathrm{C}\\right\\} \\right)P_{3\\mid1}\\left(\\left\\{ \\mathrm{C}\\right\\} \\mid\\left\\{ \\mathrm{C}\\right\\} \\right)=\\frac{1}{3}\\times\\frac{1}{2}\\times1=\\frac{1}{6}\\\\\n",
    "P_{123}\\left(\\mathsf{W}\\right) & =P_{123}\\left(\\left\\{ \\mathrm{CG_{1}C}\\right\\} \\cup\\left\\{ \\mathrm{CG_{2}C}\\right\\} \\right)=P_{123}\\left(\\left\\{ \\mathrm{CG_{1}C}\\right\\} \\right)+P_{123}\\left(\\left\\{ \\mathrm{CG_{2}C}\\right\\} \\right)=\\frac{1}{6}+\\frac{1}{6}=\\frac{1}{3}\n",
    "\\end{align*}\n",
    "### The Switch Strategy\n",
    "The sample space of this experiment is\n",
    "$$\\mathsf{\\Omega}=\\left\\{ \\mathrm{CG_{1}G_{2}},\\mathrm{CG_{2}G_{1}},\\mathrm{G_{1}G_{2}C},\\mathrm{G_{2}G_{1}C}\\right\\}$$\n",
    "and the event $\\mathsf{W}=\\left\\{ \\mathrm{G_{1}G_{2}C},\\mathrm{G_{2}G_{1}C}\\right\\} $ represents a win for the contestant.\n",
    "Probability assigment then follows from the multiplication rule of conditional probability.\n",
    "\\begin{align*}\n",
    "P_{123}\\left(\\left\\{ \\mathrm{G_{1}G_{2}C}\\right\\} \\right) & =P_{123}\\left(\\left\\{ \\mathrm{G_{1}}\\right\\} \\times\\left\\{ \\mathrm{G_{2}}\\right\\} \\times\\left\\{ \\mathrm{C}\\right\\} \\right)=P_{1}\\left(\\left\\{ \\mathrm{G_{1}}\\right\\} \\right)P_{2\\mid1}\\left(\\left\\{ \\mathrm{G_{2}}\\right\\} \\mid\\left\\{ \\mathrm{G_{1}}\\right\\} \\right)P_{3\\mid12}\\left(\\left\\{ \\mathrm{C}\\right\\} \\mid\\left\\{ \\mathrm{G_{1}G_{2}}\\right\\} \\right)=\\frac{1}{3}\\times1\\times1=\\frac{1}{3}\\\\\n",
    "P_{123}\\left(\\left\\{ \\mathrm{G_{2}G_{1}C}\\right\\} \\right) & =P_{123}\\left(\\left\\{ \\mathrm{G_{2}}\\right\\} \\times\\left\\{ \\mathrm{G_{1}}\\right\\} \\times\\left\\{ \\mathrm{C}\\right\\} \\right)=P_{1}\\left(\\left\\{ \\mathrm{G_{2}}\\right\\} \\right)P_{2\\mid1}\\left(\\left\\{ \\mathrm{G_{1}}\\right\\} \\mid\\left\\{ \\mathrm{G_{2}}\\right\\} \\right)P_{3\\mid12}\\left(\\left\\{ \\mathrm{C}\\right\\} \\mid\\left\\{ \\mathrm{G_{2}G_{1}}\\right\\} \\right)=\\frac{1}{3}\\times1\\times1=\\frac{1}{3}\\\\\n",
    "P_{123}\\left(\\mathsf{W}\\right) & =P_{123}\\left(\\left\\{ \\mathrm{G_{1}G_{2}C}\\right\\} \\cup\\left\\{ \\mathrm{G_{2}G_{1}C}\\right\\} \\right)=P_{123}\\left(\\left\\{ \\mathrm{G_{1}G_{2}C}\\right\\} \\right)+P_{123}\\left(\\left\\{ \\mathrm{G_{2}G_{1}C}\\right\\} \\right)=\\frac{1}{3}+\\frac{1}{3}=\\frac{2}{3}\n",
    "\\end{align*}\n",
    "Thus switching the door doubles the probabiliy of winning the car from $1/3$ to $2/3$."
   ]
  },
  {
   "cell_type": "markdown",
   "metadata": {
    "slideshow": {
     "slide_type": "slide"
    }
   },
   "source": [
    "## Three Prisoners Dilemma\n",
    "Let us see if the reader can identify the Monty Hall problem disguised as the following problem. Suppose there are three prisoners. It is announced that two will be executed tomorrow,and one set free. But the prisoners do not know who will be executed and who will be set free. Prisoner A asks the jailer to tell him the name of one prisoner (B or C) who will be executed, arguing that this will not tell him his own fate. The jailer agrees, and says that prisoner B is to be executed.\n",
    " - Prisoner A reasons that before he had probability 1/3 of being freed, and now he has probability 1/2.\n",
    " - The jailer reasons that nothing has changed, and Prisoner A’s probability of surviving is still 1/3.\n",
    " \n",
    "Who is correct, and why? In what ways is this problem similar to, or different from, the Monty Hall problem?"
   ]
  }
 ],
 "metadata": {
  "kernelspec": {
   "display_name": "Python 3",
   "language": "python",
   "name": "python3"
  },
  "language_info": {
   "codemirror_mode": {
    "name": "ipython",
    "version": 3
   },
   "file_extension": ".py",
   "mimetype": "text/x-python",
   "name": "python",
   "nbconvert_exporter": "python",
   "pygments_lexer": "ipython3",
   "version": "3.7.6"
  }
 },
 "nbformat": 4,
 "nbformat_minor": 4
}

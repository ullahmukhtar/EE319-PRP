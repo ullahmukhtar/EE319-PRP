{
 "cells": [
  {
   "cell_type": "markdown",
   "metadata": {},
   "source": [
    "# The Monty Hall Problem\n",
    "This problem comes from a popular U.S. television show called “Let’s Make a Deal.” The show host, Monty Hall, would hide a car behind one of three doors and a goat behind each of the other two doors. The contestant is invited to choose one of the doors. Monty Hall opens one of the remaining two doors so as to reveal a goat. He then gives the contestant the option to either stay with his original choice or to switch to the remaining unopened door. Is it in the interest of the contestant to switch?"
   ]
  },
  {
   "cell_type": "markdown",
   "metadata": {},
   "source": [
    "<img src=\"images/montyhallproblem.png\" width=\"70%\" />"
   ]
  },
  {
   "cell_type": "markdown",
   "metadata": {},
   "source": [
    "## Naive Approach\n",
    "It is tempting to suppose, because Monty Hall always opens a door with a goat behind, that no information has been conveyed. Thus the contestant will be left with two equally likely doors and a probability 1/2 of winning regardless of whether (s)he switches or not. This line of reasoning, while appealing, is wrong."
   ]
  },
  {
   "cell_type": "markdown",
   "metadata": {
    "slideshow": {
     "slide_type": "slide"
    }
   },
   "source": [
    "## Technical Approach\n",
    "Identify the car, the first goat and the second goat with respective labels $\\{0,1,2\\}$. Define the following events for the initially picked door in stage 1.\n",
    "\\begin{align}\n",
    "I_{0} & \\leftrightarrow\\text{\"The car is behind the door initially picked\"}\\\\\n",
    "I_{1} & \\leftrightarrow\\text{\"The goat labelled 1 is behind the door initially picked\"}\\\\\n",
    "I_{2} & \\leftrightarrow\\text{\"The goat labelled 2 is behind the door initially picked\"}\n",
    "\\end{align}\n",
    "It is reasonable to assume the following probabilities for the above events\n",
    "$$P\\left(I_{0}\\right)=P\\left(I_{1}\\right)=P\\left(I_{2}\\right)=\\frac{1}{3}$$\n",
    "Next, define the following events for the actions of Monty Hall in stage 2.\n",
    "\\begin{align}\n",
    "M_{1} & \\leftrightarrow\\text{\"Monty Hall reveals the goat labelled 1\"}\\\\\n",
    "M_{2} & \\leftrightarrow\\text{\"Monty Hall reveals the goat labelled 2\"}\\\\\n",
    "R_{0} & \\leftrightarrow\\text{\"The car is behind the remaining unopended door\"}\n",
    "\\end{align}\n",
    "Keep in mind that Monty Hall, in stage 2, opens a door only if\n",
    " - it does not have the car behind\n",
    " - it was not initially picked by the contestant\n",
    " \n",
    "The following conditional probabilities follow naturally.\n",
    "\\begin{align*}\n",
    "P\\left(M_{1}\\mid I_{0}\\right) & =\\frac{1}{2} & P\\left(M_{2}\\mid I_{0}\\right) & =\\frac{1}{2} & P\\left(R_{0}\\mid I_{0}\\right) & =0\\\\\n",
    "P\\left(M_{1}\\mid I_{1}\\right) & =0 & P\\left(M_{2}\\mid I_{1}\\right) & =1 & P\\left(R_{0}\\mid I_{1}\\right) & =1\\\\\n",
    "P\\left(M_{1}\\mid I_{2}\\right) & =1 & P\\left(M_{2}\\mid I_{2}\\right) & =0 & P\\left(R_{0}\\mid I_{2}\\right) & =1\n",
    "\\end{align*}\n",
    "The unconditional probabilities follow from the law of total probability.\n",
    "\\begin{alignat*}{1}\n",
    "P\\left(M_{1}\\right) & =P\\left(I_{0}\\right)P\\left(M_{1}\\mid I_{0}\\right)+P\\left(I_{1}\\right)P\\left(M_{1}\\mid I_{1}\\right)+P\\left(I_{2}\\right)P\\left(M_{1}\\mid I_{2}\\right)=\\frac{1}{3}\\times\\left(\\frac{1}{2}+0+1\\right)=\\frac{1}{2}\\\\\n",
    "P\\left(M_{2}\\right) & =P\\left(I_{0}\\right)P\\left(M_{2}\\mid I_{0}\\right)+P\\left(I_{1}\\right)P\\left(M_{2}\\mid I_{1}\\right)+P\\left(I_{2}\\right)P\\left(M_{2}\\mid I_{2}\\right)=\\frac{1}{3}\\times\\left(\\frac{1}{2}+1+0\\right)=\\frac{1}{2}\\\\\n",
    "P\\left(R_{0}\\right) & =P\\left(I_{0}\\right)P\\left(R_{0}\\mid I_{0}\\right)\\ +P\\left(I_{1}\\right)P\\left(R_{0}\\mid I_{1}\\right)+P\\left(I_{2}\\right)P\\left(R_{0}\\mid I_{2}\\right)\\ =\\frac{1}{3}\\times\\left(0+1+1\\right)\\quad=\\frac{2}{3}\n",
    "\\end{alignat*}\n",
    "It is clear that switching the door is a better strategy. To gain further confidence in our answer, let us work out the posterior probability of finding the car in the door initially picked.\n",
    "\\begin{align*}\n",
    "P\\left(I_{0}\\mid M_{1}\\right) & =\\frac{P\\left(I_{0}\\right)P\\left(M_{1}\\mid I_{0}\\right)}{P\\left(M_{1}\\right)}=\\frac{\\frac{1}{3}\\times\\frac{1}{2}}{\\frac{1}{2}}=\\frac{1}{3}\\\\\n",
    "P\\left(I_{0}\\mid M_{2}\\right) & =\\frac{P\\left(I_{0}\\right)P\\left(M_{2}\\mid I_{0}\\right)}{P\\left(M_{2}\\right)}=\\frac{\\frac{1}{3}\\times\\frac{1}{2}}{\\frac{1}{2}}=\\frac{1}{3}\n",
    "\\end{align*}"
   ]
  }
 ],
 "metadata": {
  "kernelspec": {
   "display_name": "Python 3",
   "language": "python",
   "name": "python3"
  },
  "language_info": {
   "codemirror_mode": {
    "name": "ipython",
    "version": 3
   },
   "file_extension": ".py",
   "mimetype": "text/x-python",
   "name": "python",
   "nbconvert_exporter": "python",
   "pygments_lexer": "ipython3",
   "version": "3.7.6"
  }
 },
 "nbformat": 4,
 "nbformat_minor": 4
}

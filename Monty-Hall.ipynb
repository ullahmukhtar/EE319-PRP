{
 "cells": [
  {
   "cell_type": "markdown",
   "metadata": {},
   "source": [
    "# The Monty Hall Problem\n",
    "This problem comes from a popular U.S. television show called “Let’s Make a Deal.” The show host, Monty Hall, would hide a car behind one of three doors and a goat behind each of the other two doors. The contestant is invited to choose one of the doors. Monty Hall opens one of the remaining two doors so as to reveal a goat. He then gives the contestant the option to either stay with his original choice or to switch to the remaining unopened door. Is it in the interest of the contestant to switch?"
   ]
  },
  {
   "cell_type": "markdown",
   "metadata": {},
   "source": [
    "<img src=\"images/montyhallproblem.png\" width=\"70%\" />"
   ]
  },
  {
   "cell_type": "markdown",
   "metadata": {},
   "source": [
    "## Naive Approach\n",
    "It is tempting to suppose, because Monty Hall always opens a door with a goat behind, that no information has been conveyed. Thus the contestant will be left with two equally likely doors and a probability 1/2 of winning regardless of whether (s)he switches or not. This line of reasoning, while appealing, is wrong."
   ]
  },
  {
   "cell_type": "markdown",
   "metadata": {
    "slideshow": {
     "slide_type": "slide"
    }
   },
   "source": [
    "## Technical Approach\n",
    "Identify the doors with labels $\\{0,1,2\\}$. Define the events.\n",
    "\\begin{align*}\n",
    "C_{k} & \\leftrightarrow\\text{\"Door }k\\text{ hides the car\"}\\\\\n",
    "D_{k} & \\leftrightarrow\\text{\"Monty Hall opens door }k\n",
    "\\end{align*}\n",
    "Assume the following scenario:\n",
    " - (stage 1) The contestant picks door $i$ initially\n",
    " - (stage 2) Monty Hall opens another door $m$ to reveal a goat\n",
    " - (stage 3) The contestant is given the option to switch to the remaining unopened door $r$.\n",
    "\n",
    "It is reasonable to assume the following probabilities at stage 1:\n",
    "$$P\\left(C_{i}\\right)=P\\left(C_{m}\\right)=P\\left(C_{r}\\right)=\\frac{1}{3}$$\n",
    "The actions of Monty Hall in stage 2 are reflected in the following conditional probabilities.\n",
    "\\begin{align*}\n",
    "P\\left(D_{m}\\mid C_{i}\\right) & =\\frac{1}{2} & P\\left(D_{m}\\mid C_{m}\\right) & =0 & P\\left(D_{m}\\mid C_{r}\\right) & =1\n",
    "\\end{align*}\n",
    "The unconditional probability follows from the law of total probability:\n",
    "$$P\\left(D_{m}\\right)=P\\left(C_{i}\\right)P\\left(D_{m}\\mid C_{i}\\right)+P\\left(C_{m}\\right)P\\left(D_{m}\\mid C_{m}\\right)+P\\left(C_{r}\\right)P\\left(D_{m}\\mid C_{r}\\right)=\\frac{1}{3}\\times\\left(\\frac{1}{2}+0+1\\right)=\\frac{1}{2}$$\n",
    "Next, applying Baye's theorem gives the posterior probabilitities \n",
    "\\begin{align*}\n",
    "P\\left(C_{i}\\mid D_{m}\\right) & =\\frac{P\\left(C_{i}\\right)P\\left(D_{m}\\mid C_{i}\\right)}{P\\left(D_{m}\\right)}=\\frac{\\frac{1}{3}\\times\\frac{1}{2}}{\\frac{1}{2}}=\\frac{1}{3}\\\\\n",
    "P\\left(C_{r}\\mid D_{m}\\right) & =\\frac{P\\left(C_{r}\\right)P\\left(D_{m}\\mid C_{r}\\right)}{P\\left(D_{m}\\right)}=\\frac{\\frac{1}{3}\\times1}{\\frac{1}{2}}=\\frac{2}{3}\n",
    "\\end{align*}\n",
    "Thus switching the door doubles the probabiliy of winning the car from $1/3$ to $2/3$."
   ]
  }
 ],
 "metadata": {
  "kernelspec": {
   "display_name": "Python 3",
   "language": "python",
   "name": "python3"
  },
  "language_info": {
   "codemirror_mode": {
    "name": "ipython",
    "version": 3
   },
   "file_extension": ".py",
   "mimetype": "text/x-python",
   "name": "python",
   "nbconvert_exporter": "python",
   "pygments_lexer": "ipython3",
   "version": "3.7.6"
  }
 },
 "nbformat": 4,
 "nbformat_minor": 4
}

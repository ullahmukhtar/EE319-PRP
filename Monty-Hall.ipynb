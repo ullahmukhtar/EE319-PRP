{
 "cells": [
  {
   "cell_type": "markdown",
   "metadata": {},
   "source": [
    "# The Monty Hall Problem\n",
    "This problem comes from a popular U.S. television show called “Let’s Make a Deal.” The show host, Monty Hall, would hide a car behind one of three doors and a goat behind each of the other two doors. The contestant is invited to choose one of the doors. Monty Hall opens one of the remaining two doors so as to reveal a goat. He then gives the contestant the option to either stay with his original choice or to switch to the remaining unopened door. Is it in the interest of the contestant to switch?"
   ]
  },
  {
   "cell_type": "markdown",
   "metadata": {},
   "source": [
    "<img src=\"images/montyhallproblem.png\" width=\"70%\" />"
   ]
  },
  {
   "cell_type": "markdown",
   "metadata": {},
   "source": [
    "## Naive Approach\n",
    "It is tempting to suppose, because Monty Hall always opens a door with a goat behind, that no information has been conveyed. Thus the contestant will be left with two equally likely doors and a probability 1/2 of winning regardless of whether (s)he switches or not. This line of reasoning, while appealing, is wrong."
   ]
  },
  {
   "cell_type": "markdown",
   "metadata": {
    "slideshow": {
     "slide_type": "slide"
    }
   },
   "source": [
    "## Technical Approach\n",
    "In addition to the obvious static labels 1,2,3 for the three doors, it is useful to define the following dynamic labels.\n",
    "\\begin{align}\n",
    "\\mathrm{i} & \\leftrightarrow\\text{\"Door initially picked by the contestant\"}\\\\\n",
    "\\mathrm{m} & \\leftrightarrow\\text{\"Door opened by Monty Hall to reveal a goat\"}\\\\\n",
    "\\mathrm{r} & \\leftrightarrow\\text{\"The remaining unopened door\"}\n",
    "\\end{align}\n",
    "Let us define the following events.\n",
    "\\begin{align}\n",
    "C_{\\mathrm{i}} & \\leftrightarrow\\text{\"Car behind the door initially picked\"}\\\\\n",
    "C_{\\mathrm{m}} & \\leftrightarrow\\text{\"Car behind the door revealed by Monty Hall\"}\\\\\n",
    "C_{\\mathrm{r}} & \\leftrightarrow\\text{\"Car behind the remaining unopened door\"} \n",
    "\\end{align}\n",
    "Since the car must be behind one of the doors, the outcome space $\\Omega$ of the experiment can be expressed as\n",
    "$$\\Omega = C_{\\mathrm{1}}\\cup C_{\\mathrm{2}}\\cup C_{\\mathrm{3}} = C_{\\mathrm{i}}\\cup C_{\\mathrm{m}}\\cup C_{\\mathrm{r}}$$\n",
    "Since Monty Hall will never reveal a car before giving the option, $C_{\\mathrm{m}}=\\emptyset$, and the above equation simplifies to\n",
    "$$\\Omega = C_{\\mathrm{i}}\\cup C_{\\mathrm{r}}$$\n",
    "Do not get deceived by the simplicity of this equation. This is a consequence of our dynamic labeling that incorporates the actions of Monty Hall. Essentially. It is reasonable to assume the following probabilities for the events associated with the initial pick.\n",
    "\\begin{align*}\n",
    "P\\left(C_{\\mathrm{i}}\\right) & = P\\left(C_{\\mathrm{1}}\\right) = P\\left(C_{\\mathrm{2}}\\right)= P\\left(C_{\\mathrm{3}}\\right) = \\frac{1}{3}\\\\\n",
    "P\\left(C_{\\mathrm{r}}\\right) & =P\\left(C_{\\mathrm{i}}^{\\prime}\\right) = \\frac{2}{3}\n",
    "\\end{align*}\n",
    "It is important to note how the total probability is distributed. Before Monty Hall opens the door, all the doors get equal share $1/3$. After Monty Hall reveals a goat, the probability of two doors is now assigned to the remaining unopened door whereas the probability of the initial pick does not change. It is clear that switching the door is a better strategy."
   ]
  }
 ],
 "metadata": {
  "kernelspec": {
   "display_name": "Python 3",
   "language": "python",
   "name": "python3"
  },
  "language_info": {
   "codemirror_mode": {
    "name": "ipython",
    "version": 3
   },
   "file_extension": ".py",
   "mimetype": "text/x-python",
   "name": "python",
   "nbconvert_exporter": "python",
   "pygments_lexer": "ipython3",
   "version": "3.7.6"
  }
 },
 "nbformat": 4,
 "nbformat_minor": 4
}

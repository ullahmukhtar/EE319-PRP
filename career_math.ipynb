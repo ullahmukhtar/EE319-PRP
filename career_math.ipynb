{
 "cells": [
  {
   "cell_type": "code",
   "execution_count": 1,
   "metadata": {
    "jupyter": {
     "source_hidden": true
    },
    "slideshow": {
     "slide_type": "skip"
    },
    "tags": [
     "hide"
    ]
   },
   "outputs": [],
   "source": [
    "#HIDDEN\n",
    "from IPython.display import display\n",
    "#from IPython.display import IFrame\n",
    "from IPython.display import HTML, Image, Latex, Math, Markdown, SVG"
   ]
  },
  {
   "cell_type": "markdown",
   "metadata": {
    "slideshow": {
     "slide_type": "slide"
    }
   },
   "source": [
    "# Career Counceling and Future Prospects for Math Students\n",
    "\n",
    "## *Dr. Ing. Mukhtar Ullah*\n",
    "### Professor and HoD Electrical Enginnering, FAST NUCES, Islamabad\n",
    "<br>\n",
    "<br>\n",
    "<br>\n",
    "\n",
    "### Seminar delivered on Feb 06,2020 at\n",
    "## Abbottababad University of Science & Technology"
   ]
  },
  {
   "cell_type": "markdown",
   "metadata": {
    "slideshow": {
     "slide_type": "slide"
    }
   },
   "source": [
    "## Mathematics is **not** just\n",
    " - numbers and shapes\n",
    " - yet another subject\n",
    " - yet another language\n",
    " \n",
    "## How do you tell the naysayers?"
   ]
  },
  {
   "cell_type": "markdown",
   "metadata": {
    "slideshow": {
     "slide_type": "subslide"
    }
   },
   "source": [
    "## What is this?\n",
    "<img src=\"images/car_sketch.png\" width=\"80%\" />"
   ]
  },
  {
   "cell_type": "markdown",
   "metadata": {
    "slideshow": {
     "slide_type": "subslide"
    }
   },
   "source": [
    "## What is this?\n",
    "<img src=\"images/car_photo.png\" width=\"80%\" />"
   ]
  },
  {
   "cell_type": "markdown",
   "metadata": {
    "slideshow": {
     "slide_type": "subslide"
    }
   },
   "source": [
    "# Do you want to see a real car?"
   ]
  },
  {
   "cell_type": "markdown",
   "metadata": {
    "slideshow": {
     "slide_type": "subslide"
    }
   },
   "source": [
    "# Go out in the parking lot"
   ]
  },
  {
   "cell_type": "markdown",
   "metadata": {
    "slideshow": {
     "slide_type": "slide"
    }
   },
   "source": [
    "## The Real World and its Representation in the Human Mind\n",
    "### Reflect on (what you do) in these scenarios\n",
    "- You enter this classroom and are asked (by your teacher) to counting all the chairs\n",
    " - how do you identify a chair\n",
    "- You enter a circuits lab and are asked to describe a small cylindrical capsule with a short wire protruding from each end\n",
    " - how do you defend your claim that the capsule is a resistor\n",
    " - how do you deal with the uncertainty (tolerance) in resistor values?"
   ]
  },
  {
   "cell_type": "markdown",
   "metadata": {
    "slideshow": {
     "slide_type": "subslide"
    }
   },
   "source": [
    "<img src=\"images/three_worlds.png\" width=\"80%\" />"
   ]
  },
  {
   "cell_type": "markdown",
   "metadata": {
    "slideshow": {
     "slide_type": "subslide"
    }
   },
   "source": [
    "<img src=\"images/scientific_method.png\" width=\"80%\" />"
   ]
  },
  {
   "cell_type": "markdown",
   "metadata": {
    "slideshow": {
     "slide_type": "subslide"
    }
   },
   "source": [
    "<img src=\"images/CS_abstraction_layers.png\" width=\"70%\" />"
   ]
  },
  {
   "cell_type": "markdown",
   "metadata": {
    "slideshow": {
     "slide_type": "slide"
    }
   },
   "source": [
    "# Careers in Mathematics\n",
    "\n",
    "[Careers in Mathematics](https://www.learnhowtobecome.org/careers-in-mathematics/)\n",
    "\n",
    "[Prospects for Mathematcians](https://www.prospects.ac.uk/careers-advice/what-can-i-do-with-my-degree/mathematics)\n",
    "\n",
    "[10 Careers for Math Lovers](https://www.northeastern.edu/graduate/blog/best-math-careers/)\n",
    "\n",
    "[10 Careers for Math Lovers](https://www.northeastern.edu/graduate/blog/best-math-careers/)"
   ]
  },
  {
   "cell_type": "markdown",
   "metadata": {
    "slideshow": {
     "slide_type": "slide"
    }
   },
   "source": [
    "# Artificial Intelligence\n",
    " - Cyberphysical Systems (CPS)\n",
    " - Internet of things (IoT)\n",
    " - Data Science (DS)\n",
    "\n",
    "[Industrial Revolutions](https://ied.eu/project-updates/the-4-industrial-revolutions/)"
   ]
  },
  {
   "cell_type": "markdown",
   "metadata": {
    "slideshow": {
     "slide_type": "slide"
    }
   },
   "source": [
    "# Can Mathematics Land You in AI?\n",
    "\n",
    "[Mathematcians is Vital for AI](https://towardsdatascience.com/why-is-mathematics-vital-to-thrive-in-your-ai-career-c11bd8446ddc)\n",
    "\n",
    "[Best Degrees for DS](https://towardsdatascience.com/5-best-degrees-for-getting-into-data-science-c3eb067883b1)\n",
    "\n",
    "[Best Degrees for AI](https://ai4beginners.com/what-degree-major-is-best-for-artificial-intelligence/)\n",
    "\n",
    "[Can I Switch to DS](https://www.quora.com/Will-studying-as-a-math-major-help-me-become-a-data-scientist)\n",
    "\n",
    "[Is BS Math Suitable for DS](https://datajobs.com/what-is-data-science)\n",
    "\n",
    "[Math and Physics can switch to AI](https://dataconomy.com/2017/06/math-physics-artificial-intelligence-careers/)"
   ]
  },
  {
   "cell_type": "markdown",
   "metadata": {
    "slideshow": {
     "slide_type": "slide"
    }
   },
   "source": [
    "# Your Path to AI and DS\n",
    "\n",
    "[Math for DS](https://towardsdatascience.com/mathematics-for-data-science-e53939ee8306)\n",
    "\n",
    "[Math in DS](https://www.dataquest.io/blog/math-in-data-science/)\n",
    "\n",
    "[Learn DS without a Degree](https://www.springboard.com/blog/learn-data-science-without-degree/)\n",
    "\n",
    "[Can I Switch to DS](https://www.quora.com/Will-studying-as-a-math-major-help-me-become-a-data-scientist)\n",
    "\n",
    "[Is BS Math Suitable for DS](https://datajobs.com/what-is-data-science)\n",
    "\n",
    "[Math and Physics can switch to AI](https://dataconomy.com/2017/06/math-physics-artificial-intelligence-careers/)"
   ]
  },
  {
   "cell_type": "markdown",
   "metadata": {
    "slideshow": {
     "slide_type": "slide"
    }
   },
   "source": [
    "# Studies and Work Abroad\n",
    "\n",
    "[Erasmus Mundus](https://ec.europa.eu/programmes/erasmus-plus/opportunities/individuals/students/erasmus-mundus-joint-master-degrees_en)\n",
    "\n",
    "[DAAD](http://ic.daad.de/islamabad/en/15669/index.html)\n",
    "\n",
    "[Commonwealth Scholarships](http://cscuk.dfid.gov.uk)\n",
    "\n",
    "[Commonwealth Scholarships on HEC](https://www.hec.gov.pk/english/scholarshipsgrants/lao/cwgs/Pages/default.aspx)\n",
    "\n",
    "[CV Guides](https://europass.cedefop.europa.eu/documents/curriculum-vitae)"
   ]
  },
  {
   "cell_type": "markdown",
   "metadata": {
    "slideshow": {
     "slide_type": "slide"
    }
   },
   "source": [
    "# Studies and Work Abroad\n",
    "\n",
    "[Tests Required](https://timesconsultant.pk/standardized-tests/)\n",
    "\n",
    "[Test Preparation](https://www.studyabroad.pk/test-preparation/)\n",
    "\n",
    "[Authorized Centers in Pakistan](https://www.usefpakistan.org/TestingHome.cfm)\n",
    "\n",
    "[Can I Switch to DS](https://www.quora.com/Will-studying-as-a-math-major-help-me-become-a-data-scientist)\n",
    "\n",
    "[Is BS Math Suitable for DS](https://datajobs.com/what-is-data-science)\n",
    "\n",
    "[Math and Physics can switch to AI](https://dataconomy.com/2017/06/math-physics-artificial-intelligence-careers/)"
   ]
  },
  {
   "cell_type": "markdown",
   "metadata": {
    "slideshow": {
     "slide_type": "slide"
    }
   },
   "source": [
    "# Online Jobs (Freelancing)\n",
    "\n",
    "[Fiverr](https://www.fiverr.com/)\n",
    "\n",
    "[Upwork](https://www.upwork.com/)\n",
    "\n",
    "[Codementor](https://www.codementor.io/)\n",
    "\n",
    "[Linkedin](https://www.linkedin.com/)\n",
    "\n",
    "[Facebook](https://www.facebook.com/)"
   ]
  },
  {
   "cell_type": "markdown",
   "metadata": {
    "slideshow": {
     "slide_type": "slide"
    }
   },
   "source": [
    "# <center>Questions</center>"
   ]
  }
 ],
 "metadata": {
  "celltoolbar": "Slideshow",
  "kernelspec": {
   "display_name": "Python 3",
   "language": "python",
   "name": "python3"
  },
  "language_info": {
   "codemirror_mode": {
    "name": "ipython",
    "version": 3
   },
   "file_extension": ".py",
   "mimetype": "text/x-python",
   "name": "python",
   "nbconvert_exporter": "python",
   "pygments_lexer": "ipython3",
   "version": "3.7.4"
  }
 },
 "nbformat": 4,
 "nbformat_minor": 4
}
